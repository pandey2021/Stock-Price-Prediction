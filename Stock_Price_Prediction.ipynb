{
  "nbformat": 4,
  "nbformat_minor": 0,
  "metadata": {
    "colab": {
      "provenance": [],
      "toc_visible": true,
      "authorship_tag": "ABX9TyPUSPz9qy2kFTqwl4Sf2/hi",
      "include_colab_link": true
    },
    "kernelspec": {
      "name": "python3",
      "display_name": "Python 3"
    },
    "language_info": {
      "name": "python"
    }
  },
  "cells": [
    {
      "cell_type": "markdown",
      "metadata": {
        "id": "view-in-github",
        "colab_type": "text"
      },
      "source": [
        "<a href=\"https://colab.research.google.com/github/pandey2021/Stock-Price-Prediction/blob/main/Stock_Price_Prediction.ipynb\" target=\"_parent\"><img src=\"https://colab.research.google.com/assets/colab-badge.svg\" alt=\"Open In Colab\"/></a>"
      ]
    },
    {
      "cell_type": "markdown",
      "source": [
        "# Stock Market Prediction\n"
      ],
      "metadata": {
        "id": "ARPaavO20WsR"
      }
    },
    {
      "cell_type": "code",
      "source": [
        "## Steps to Proceed:\n",
        "### Data Collection Part\n",
        "### We will collect the Stock Data -- AAPL\n",
        "### Create an stacked LSTM model\n",
        "### Predict the test data and plot the output\n",
        "### Predict the future 30 days and plot the output"
      ],
      "metadata": {
        "id": "M1VU5sgk0Srv"
      },
      "execution_count": null,
      "outputs": []
    },
    {
      "cell_type": "code",
      "execution_count": null,
      "metadata": {
        "id": "_hx-0MABTWPN"
      },
      "outputs": [],
      "source": [
        "# Data Collection\n",
        "import pandas_datareader as pdr"
      ]
    },
    {
      "cell_type": "code",
      "source": [
        "df = pdr.get_data_tiingo('AAPL', api_key = '5abc7fb459d9bb267f1a95fb24cc7c35731a9128')"
      ],
      "metadata": {
        "colab": {
          "base_uri": "https://localhost:8080/"
        },
        "id": "iTaI-ISkTgYk",
        "outputId": "7af50cef-2429-4078-bc4c-7b1717a1a2aa"
      },
      "execution_count": null,
      "outputs": [
        {
          "output_type": "stream",
          "name": "stderr",
          "text": [
            "<ipython-input-3-76815e4d091a>:1: FutureWarning: In a future version of pandas all arguments of concat except for the argument 'objs' will be keyword-only.\n",
            "  df = pdr.get_data_tiingo('AAPL', api_key = '5abc7fb459d9bb267f1a95fb24cc7c35731a9128')\n"
          ]
        }
      ]
    },
    {
      "cell_type": "code",
      "source": [
        "df.to_csv('AAPL.csv')"
      ],
      "metadata": {
        "id": "WK7RhBLcUKfY"
      },
      "execution_count": null,
      "outputs": []
    },
    {
      "cell_type": "code",
      "source": [
        "df.tail()"
      ],
      "metadata": {
        "colab": {
          "base_uri": "https://localhost:8080/",
          "height": 344
        },
        "id": "lDUHjQ5qU47V",
        "outputId": "93888a6d-1ebc-44d9-eb05-8729e3e1bcb2"
      },
      "execution_count": null,
      "outputs": [
        {
          "output_type": "execute_result",
          "data": {
            "text/plain": [
              "                                   close    high     low    open    volume  \\\n",
              "symbol date                                                                  \n",
              "AAPL   2023-10-30 00:00:00+00:00  170.29  171.17  168.87  169.02  51130955   \n",
              "       2023-10-31 00:00:00+00:00  170.77  170.90  167.90  169.35  44846017   \n",
              "       2023-11-01 00:00:00+00:00  173.97  174.23  170.12  171.00  56934906   \n",
              "       2023-11-02 00:00:00+00:00  177.57  177.78  175.46  175.52  77334752   \n",
              "       2023-11-03 00:00:00+00:00  176.65  176.82  173.35  174.24  79829246   \n",
              "\n",
              "                                  adjClose  adjHigh  adjLow  adjOpen  \\\n",
              "symbol date                                                            \n",
              "AAPL   2023-10-30 00:00:00+00:00    170.29   171.17  168.87   169.02   \n",
              "       2023-10-31 00:00:00+00:00    170.77   170.90  167.90   169.35   \n",
              "       2023-11-01 00:00:00+00:00    173.97   174.23  170.12   171.00   \n",
              "       2023-11-02 00:00:00+00:00    177.57   177.78  175.46   175.52   \n",
              "       2023-11-03 00:00:00+00:00    176.65   176.82  173.35   174.24   \n",
              "\n",
              "                                  adjVolume  divCash  splitFactor  \n",
              "symbol date                                                        \n",
              "AAPL   2023-10-30 00:00:00+00:00   51130955      0.0          1.0  \n",
              "       2023-10-31 00:00:00+00:00   44846017      0.0          1.0  \n",
              "       2023-11-01 00:00:00+00:00   56934906      0.0          1.0  \n",
              "       2023-11-02 00:00:00+00:00   77334752      0.0          1.0  \n",
              "       2023-11-03 00:00:00+00:00   79829246      0.0          1.0  "
            ],
            "text/html": [
              "\n",
              "  <div id=\"df-6e4bb07a-52ed-44b4-ae29-9cad922462ed\" class=\"colab-df-container\">\n",
              "    <div>\n",
              "<style scoped>\n",
              "    .dataframe tbody tr th:only-of-type {\n",
              "        vertical-align: middle;\n",
              "    }\n",
              "\n",
              "    .dataframe tbody tr th {\n",
              "        vertical-align: top;\n",
              "    }\n",
              "\n",
              "    .dataframe thead th {\n",
              "        text-align: right;\n",
              "    }\n",
              "</style>\n",
              "<table border=\"1\" class=\"dataframe\">\n",
              "  <thead>\n",
              "    <tr style=\"text-align: right;\">\n",
              "      <th></th>\n",
              "      <th></th>\n",
              "      <th>close</th>\n",
              "      <th>high</th>\n",
              "      <th>low</th>\n",
              "      <th>open</th>\n",
              "      <th>volume</th>\n",
              "      <th>adjClose</th>\n",
              "      <th>adjHigh</th>\n",
              "      <th>adjLow</th>\n",
              "      <th>adjOpen</th>\n",
              "      <th>adjVolume</th>\n",
              "      <th>divCash</th>\n",
              "      <th>splitFactor</th>\n",
              "    </tr>\n",
              "    <tr>\n",
              "      <th>symbol</th>\n",
              "      <th>date</th>\n",
              "      <th></th>\n",
              "      <th></th>\n",
              "      <th></th>\n",
              "      <th></th>\n",
              "      <th></th>\n",
              "      <th></th>\n",
              "      <th></th>\n",
              "      <th></th>\n",
              "      <th></th>\n",
              "      <th></th>\n",
              "      <th></th>\n",
              "      <th></th>\n",
              "    </tr>\n",
              "  </thead>\n",
              "  <tbody>\n",
              "    <tr>\n",
              "      <th rowspan=\"5\" valign=\"top\">AAPL</th>\n",
              "      <th>2023-10-30 00:00:00+00:00</th>\n",
              "      <td>170.29</td>\n",
              "      <td>171.17</td>\n",
              "      <td>168.87</td>\n",
              "      <td>169.02</td>\n",
              "      <td>51130955</td>\n",
              "      <td>170.29</td>\n",
              "      <td>171.17</td>\n",
              "      <td>168.87</td>\n",
              "      <td>169.02</td>\n",
              "      <td>51130955</td>\n",
              "      <td>0.0</td>\n",
              "      <td>1.0</td>\n",
              "    </tr>\n",
              "    <tr>\n",
              "      <th>2023-10-31 00:00:00+00:00</th>\n",
              "      <td>170.77</td>\n",
              "      <td>170.90</td>\n",
              "      <td>167.90</td>\n",
              "      <td>169.35</td>\n",
              "      <td>44846017</td>\n",
              "      <td>170.77</td>\n",
              "      <td>170.90</td>\n",
              "      <td>167.90</td>\n",
              "      <td>169.35</td>\n",
              "      <td>44846017</td>\n",
              "      <td>0.0</td>\n",
              "      <td>1.0</td>\n",
              "    </tr>\n",
              "    <tr>\n",
              "      <th>2023-11-01 00:00:00+00:00</th>\n",
              "      <td>173.97</td>\n",
              "      <td>174.23</td>\n",
              "      <td>170.12</td>\n",
              "      <td>171.00</td>\n",
              "      <td>56934906</td>\n",
              "      <td>173.97</td>\n",
              "      <td>174.23</td>\n",
              "      <td>170.12</td>\n",
              "      <td>171.00</td>\n",
              "      <td>56934906</td>\n",
              "      <td>0.0</td>\n",
              "      <td>1.0</td>\n",
              "    </tr>\n",
              "    <tr>\n",
              "      <th>2023-11-02 00:00:00+00:00</th>\n",
              "      <td>177.57</td>\n",
              "      <td>177.78</td>\n",
              "      <td>175.46</td>\n",
              "      <td>175.52</td>\n",
              "      <td>77334752</td>\n",
              "      <td>177.57</td>\n",
              "      <td>177.78</td>\n",
              "      <td>175.46</td>\n",
              "      <td>175.52</td>\n",
              "      <td>77334752</td>\n",
              "      <td>0.0</td>\n",
              "      <td>1.0</td>\n",
              "    </tr>\n",
              "    <tr>\n",
              "      <th>2023-11-03 00:00:00+00:00</th>\n",
              "      <td>176.65</td>\n",
              "      <td>176.82</td>\n",
              "      <td>173.35</td>\n",
              "      <td>174.24</td>\n",
              "      <td>79829246</td>\n",
              "      <td>176.65</td>\n",
              "      <td>176.82</td>\n",
              "      <td>173.35</td>\n",
              "      <td>174.24</td>\n",
              "      <td>79829246</td>\n",
              "      <td>0.0</td>\n",
              "      <td>1.0</td>\n",
              "    </tr>\n",
              "  </tbody>\n",
              "</table>\n",
              "</div>\n",
              "    <div class=\"colab-df-buttons\">\n",
              "\n",
              "  <div class=\"colab-df-container\">\n",
              "    <button class=\"colab-df-convert\" onclick=\"convertToInteractive('df-6e4bb07a-52ed-44b4-ae29-9cad922462ed')\"\n",
              "            title=\"Convert this dataframe to an interactive table.\"\n",
              "            style=\"display:none;\">\n",
              "\n",
              "  <svg xmlns=\"http://www.w3.org/2000/svg\" height=\"24px\" viewBox=\"0 -960 960 960\">\n",
              "    <path d=\"M120-120v-720h720v720H120Zm60-500h600v-160H180v160Zm220 220h160v-160H400v160Zm0 220h160v-160H400v160ZM180-400h160v-160H180v160Zm440 0h160v-160H620v160ZM180-180h160v-160H180v160Zm440 0h160v-160H620v160Z\"/>\n",
              "  </svg>\n",
              "    </button>\n",
              "\n",
              "  <style>\n",
              "    .colab-df-container {\n",
              "      display:flex;\n",
              "      gap: 12px;\n",
              "    }\n",
              "\n",
              "    .colab-df-convert {\n",
              "      background-color: #E8F0FE;\n",
              "      border: none;\n",
              "      border-radius: 50%;\n",
              "      cursor: pointer;\n",
              "      display: none;\n",
              "      fill: #1967D2;\n",
              "      height: 32px;\n",
              "      padding: 0 0 0 0;\n",
              "      width: 32px;\n",
              "    }\n",
              "\n",
              "    .colab-df-convert:hover {\n",
              "      background-color: #E2EBFA;\n",
              "      box-shadow: 0px 1px 2px rgba(60, 64, 67, 0.3), 0px 1px 3px 1px rgba(60, 64, 67, 0.15);\n",
              "      fill: #174EA6;\n",
              "    }\n",
              "\n",
              "    .colab-df-buttons div {\n",
              "      margin-bottom: 4px;\n",
              "    }\n",
              "\n",
              "    [theme=dark] .colab-df-convert {\n",
              "      background-color: #3B4455;\n",
              "      fill: #D2E3FC;\n",
              "    }\n",
              "\n",
              "    [theme=dark] .colab-df-convert:hover {\n",
              "      background-color: #434B5C;\n",
              "      box-shadow: 0px 1px 3px 1px rgba(0, 0, 0, 0.15);\n",
              "      filter: drop-shadow(0px 1px 2px rgba(0, 0, 0, 0.3));\n",
              "      fill: #FFFFFF;\n",
              "    }\n",
              "  </style>\n",
              "\n",
              "    <script>\n",
              "      const buttonEl =\n",
              "        document.querySelector('#df-6e4bb07a-52ed-44b4-ae29-9cad922462ed button.colab-df-convert');\n",
              "      buttonEl.style.display =\n",
              "        google.colab.kernel.accessAllowed ? 'block' : 'none';\n",
              "\n",
              "      async function convertToInteractive(key) {\n",
              "        const element = document.querySelector('#df-6e4bb07a-52ed-44b4-ae29-9cad922462ed');\n",
              "        const dataTable =\n",
              "          await google.colab.kernel.invokeFunction('convertToInteractive',\n",
              "                                                    [key], {});\n",
              "        if (!dataTable) return;\n",
              "\n",
              "        const docLinkHtml = 'Like what you see? Visit the ' +\n",
              "          '<a target=\"_blank\" href=https://colab.research.google.com/notebooks/data_table.ipynb>data table notebook</a>'\n",
              "          + ' to learn more about interactive tables.';\n",
              "        element.innerHTML = '';\n",
              "        dataTable['output_type'] = 'display_data';\n",
              "        await google.colab.output.renderOutput(dataTable, element);\n",
              "        const docLink = document.createElement('div');\n",
              "        docLink.innerHTML = docLinkHtml;\n",
              "        element.appendChild(docLink);\n",
              "      }\n",
              "    </script>\n",
              "  </div>\n",
              "\n",
              "\n",
              "<div id=\"df-0f0c60b9-e09b-459e-bbf1-d5760dbdaea7\">\n",
              "  <button class=\"colab-df-quickchart\" onclick=\"quickchart('df-0f0c60b9-e09b-459e-bbf1-d5760dbdaea7')\"\n",
              "            title=\"Suggest charts.\"\n",
              "            style=\"display:none;\">\n",
              "\n",
              "<svg xmlns=\"http://www.w3.org/2000/svg\" height=\"24px\"viewBox=\"0 0 24 24\"\n",
              "     width=\"24px\">\n",
              "    <g>\n",
              "        <path d=\"M19 3H5c-1.1 0-2 .9-2 2v14c0 1.1.9 2 2 2h14c1.1 0 2-.9 2-2V5c0-1.1-.9-2-2-2zM9 17H7v-7h2v7zm4 0h-2V7h2v10zm4 0h-2v-4h2v4z\"/>\n",
              "    </g>\n",
              "</svg>\n",
              "  </button>\n",
              "\n",
              "<style>\n",
              "  .colab-df-quickchart {\n",
              "      --bg-color: #E8F0FE;\n",
              "      --fill-color: #1967D2;\n",
              "      --hover-bg-color: #E2EBFA;\n",
              "      --hover-fill-color: #174EA6;\n",
              "      --disabled-fill-color: #AAA;\n",
              "      --disabled-bg-color: #DDD;\n",
              "  }\n",
              "\n",
              "  [theme=dark] .colab-df-quickchart {\n",
              "      --bg-color: #3B4455;\n",
              "      --fill-color: #D2E3FC;\n",
              "      --hover-bg-color: #434B5C;\n",
              "      --hover-fill-color: #FFFFFF;\n",
              "      --disabled-bg-color: #3B4455;\n",
              "      --disabled-fill-color: #666;\n",
              "  }\n",
              "\n",
              "  .colab-df-quickchart {\n",
              "    background-color: var(--bg-color);\n",
              "    border: none;\n",
              "    border-radius: 50%;\n",
              "    cursor: pointer;\n",
              "    display: none;\n",
              "    fill: var(--fill-color);\n",
              "    height: 32px;\n",
              "    padding: 0;\n",
              "    width: 32px;\n",
              "  }\n",
              "\n",
              "  .colab-df-quickchart:hover {\n",
              "    background-color: var(--hover-bg-color);\n",
              "    box-shadow: 0 1px 2px rgba(60, 64, 67, 0.3), 0 1px 3px 1px rgba(60, 64, 67, 0.15);\n",
              "    fill: var(--button-hover-fill-color);\n",
              "  }\n",
              "\n",
              "  .colab-df-quickchart-complete:disabled,\n",
              "  .colab-df-quickchart-complete:disabled:hover {\n",
              "    background-color: var(--disabled-bg-color);\n",
              "    fill: var(--disabled-fill-color);\n",
              "    box-shadow: none;\n",
              "  }\n",
              "\n",
              "  .colab-df-spinner {\n",
              "    border: 2px solid var(--fill-color);\n",
              "    border-color: transparent;\n",
              "    border-bottom-color: var(--fill-color);\n",
              "    animation:\n",
              "      spin 1s steps(1) infinite;\n",
              "  }\n",
              "\n",
              "  @keyframes spin {\n",
              "    0% {\n",
              "      border-color: transparent;\n",
              "      border-bottom-color: var(--fill-color);\n",
              "      border-left-color: var(--fill-color);\n",
              "    }\n",
              "    20% {\n",
              "      border-color: transparent;\n",
              "      border-left-color: var(--fill-color);\n",
              "      border-top-color: var(--fill-color);\n",
              "    }\n",
              "    30% {\n",
              "      border-color: transparent;\n",
              "      border-left-color: var(--fill-color);\n",
              "      border-top-color: var(--fill-color);\n",
              "      border-right-color: var(--fill-color);\n",
              "    }\n",
              "    40% {\n",
              "      border-color: transparent;\n",
              "      border-right-color: var(--fill-color);\n",
              "      border-top-color: var(--fill-color);\n",
              "    }\n",
              "    60% {\n",
              "      border-color: transparent;\n",
              "      border-right-color: var(--fill-color);\n",
              "    }\n",
              "    80% {\n",
              "      border-color: transparent;\n",
              "      border-right-color: var(--fill-color);\n",
              "      border-bottom-color: var(--fill-color);\n",
              "    }\n",
              "    90% {\n",
              "      border-color: transparent;\n",
              "      border-bottom-color: var(--fill-color);\n",
              "    }\n",
              "  }\n",
              "</style>\n",
              "\n",
              "  <script>\n",
              "    async function quickchart(key) {\n",
              "      const quickchartButtonEl =\n",
              "        document.querySelector('#' + key + ' button');\n",
              "      quickchartButtonEl.disabled = true;  // To prevent multiple clicks.\n",
              "      quickchartButtonEl.classList.add('colab-df-spinner');\n",
              "      try {\n",
              "        const charts = await google.colab.kernel.invokeFunction(\n",
              "            'suggestCharts', [key], {});\n",
              "      } catch (error) {\n",
              "        console.error('Error during call to suggestCharts:', error);\n",
              "      }\n",
              "      quickchartButtonEl.classList.remove('colab-df-spinner');\n",
              "      quickchartButtonEl.classList.add('colab-df-quickchart-complete');\n",
              "    }\n",
              "    (() => {\n",
              "      let quickchartButtonEl =\n",
              "        document.querySelector('#df-0f0c60b9-e09b-459e-bbf1-d5760dbdaea7 button');\n",
              "      quickchartButtonEl.style.display =\n",
              "        google.colab.kernel.accessAllowed ? 'block' : 'none';\n",
              "    })();\n",
              "  </script>\n",
              "</div>\n",
              "    </div>\n",
              "  </div>\n"
            ]
          },
          "metadata": {},
          "execution_count": 6
        }
      ]
    },
    {
      "cell_type": "code",
      "source": [
        "df1 = df.reset_index()['close']"
      ],
      "metadata": {
        "id": "5t7sJ_3AVNaY"
      },
      "execution_count": null,
      "outputs": []
    },
    {
      "cell_type": "code",
      "source": [
        "df1.shape"
      ],
      "metadata": {
        "colab": {
          "base_uri": "https://localhost:8080/"
        },
        "id": "FJ4N9XMgVnPo",
        "outputId": "a7b073d5-0097-42a1-e132-16d2eb3d8afa"
      },
      "execution_count": null,
      "outputs": [
        {
          "output_type": "execute_result",
          "data": {
            "text/plain": [
              "(1256,)"
            ]
          },
          "metadata": {},
          "execution_count": 11
        }
      ]
    },
    {
      "cell_type": "code",
      "source": [
        "df1"
      ],
      "metadata": {
        "colab": {
          "base_uri": "https://localhost:8080/"
        },
        "id": "KtfTjOeRVp9X",
        "outputId": "356c5fa0-aae9-4c81-874c-f52107d1da92"
      },
      "execution_count": null,
      "outputs": [
        {
          "output_type": "execute_result",
          "data": {
            "text/plain": [
              "0       209.95\n",
              "1       208.49\n",
              "2       204.47\n",
              "3       194.17\n",
              "4       192.23\n",
              "         ...  \n",
              "1251    170.29\n",
              "1252    170.77\n",
              "1253    173.97\n",
              "1254    177.57\n",
              "1255    176.65\n",
              "Name: close, Length: 1256, dtype: float64"
            ]
          },
          "metadata": {},
          "execution_count": 12
        }
      ]
    },
    {
      "cell_type": "code",
      "source": [
        "import matplotlib.pyplot as plt"
      ],
      "metadata": {
        "id": "1w2zR1FmV-3o"
      },
      "execution_count": null,
      "outputs": []
    },
    {
      "cell_type": "code",
      "source": [
        "plt.plot(df1)"
      ],
      "metadata": {
        "colab": {
          "base_uri": "https://localhost:8080/",
          "height": 447
        },
        "id": "8Dtt8g8BWD14",
        "outputId": "fe5dea4c-c88e-4919-ea82-443b67671b45"
      },
      "execution_count": null,
      "outputs": [
        {
          "output_type": "execute_result",
          "data": {
            "text/plain": [
              "[<matplotlib.lines.Line2D at 0x797db6074280>]"
            ]
          },
          "metadata": {},
          "execution_count": 14
        },
        {
          "output_type": "display_data",
          "data": {
            "text/plain": [
              "<Figure size 640x480 with 1 Axes>"
            ],
            "image/png": "[encoded data removed]"
          },
          "metadata": {}
        }
      ]
    },
    {
      "cell_type": "code",
      "source": [
        "### LSTM are sensitive to the scale of the data. So we apply MinMax Scaler\n",
        "### Here closing price is the scale"
      ],
      "metadata": {
        "id": "DxnU1gqZWFbA"
      },
      "execution_count": null,
      "outputs": []
    },
    {
      "cell_type": "code",
      "source": [
        "import numpy as np"
      ],
      "metadata": {
        "id": "4lnU4tMUWlRA"
      },
      "execution_count": null,
      "outputs": []
    },
    {
      "cell_type": "code",
      "source": [
        "from sklearn.preprocessing import MinMaxScaler\n",
        "### Scaling down the feature between 0 & 1\n",
        "scaler = MinMaxScaler(feature_range = (0,1))\n",
        "df1 = scaler.fit_transform(np.array(df1).reshape(-1,1))"
      ],
      "metadata": {
        "id": "DUT0G8GwWmtg"
      },
      "execution_count": null,
      "outputs": []
    },
    {
      "cell_type": "code",
      "source": [
        "df1.shape"
      ],
      "metadata": {
        "colab": {
          "base_uri": "https://localhost:8080/"
        },
        "id": "esYMSioEW7Vy",
        "outputId": "89bba03f-9234-447a-deb4-580d22f892cb"
      },
      "execution_count": null,
      "outputs": [
        {
          "output_type": "execute_result",
          "data": {
            "text/plain": [
              "(1256, 1)"
            ]
          },
          "metadata": {},
          "execution_count": 20
        }
      ]
    },
    {
      "cell_type": "code",
      "source": [
        "### All values is between 0 and 1\n",
        "df1\n"
      ],
      "metadata": {
        "colab": {
          "base_uri": "https://localhost:8080/"
        },
        "id": "BjDSbok4Xcw4",
        "outputId": "1b9adddd-2098-4df0-98e6-02672ef92fb1"
      },
      "execution_count": null,
      "outputs": [
        {
          "output_type": "execute_result",
          "data": {
            "text/plain": [
              "array([[0.25825924],\n",
              "       [0.25460238],\n",
              "       [0.2445335 ],\n",
              "       ...,\n",
              "       [0.16814026],\n",
              "       [0.17715717],\n",
              "       [0.17485285]])"
            ]
          },
          "metadata": {},
          "execution_count": 22
        }
      ]
    },
    {
      "cell_type": "code",
      "source": [
        "### In time series data is dependent on the previous data. so split it in 70:30 for train and test respectively"
      ],
      "metadata": {
        "id": "Iu3E3JY8Xfcg"
      },
      "execution_count": null,
      "outputs": []
    },
    {
      "cell_type": "code",
      "source": [
        "### Splitting the dataset in train and test split\n",
        "training_size= int(len(df1)*0.65)\n",
        "test_size = int(len(df1) - training_size)\n",
        "train_data, test_data = df1[0:training_size,:], df1[training_size:len(df1),:1]"
      ],
      "metadata": {
        "id": "CV81mv4gZyh_"
      },
      "execution_count": null,
      "outputs": []
    },
    {
      "cell_type": "code",
      "source": [
        "\n",
        "len(train_data)"
      ],
      "metadata": {
        "colab": {
          "base_uri": "https://localhost:8080/"
        },
        "id": "p79k4UMAaBo4",
        "outputId": "07515957-9990-4508-aebe-6ca186c7b508"
      },
      "execution_count": null,
      "outputs": [
        {
          "output_type": "execute_result",
          "data": {
            "text/plain": [
              "816"
            ]
          },
          "metadata": {},
          "execution_count": 27
        }
      ]
    },
    {
      "cell_type": "code",
      "source": [
        "# Convert an array of values into a dataset matrix\n",
        "def create_dataset(dataset, time_step = 1):\n",
        "  dataX, dataY = [], []\n",
        "  for i in range(len(dataset)-time_step-1):\n",
        "    a = dataset[i:(i+time_step),0]\n",
        "    dataX.append(a)\n",
        "    dataY.append(dataset[i+time_step, 0])\n",
        "  return np.array(dataX), np.array(dataY)"
      ],
      "metadata": {
        "id": "2DV2QNAtajHw"
      },
      "execution_count": null,
      "outputs": []
    },
    {
      "cell_type": "code",
      "source": [
        "time_step = 100\n",
        "X_train, Y_train = create_dataset(train_data,time_step)\n",
        "X_test, Y_test = create_dataset(test_data,time_step)"
      ],
      "metadata": {
        "id": "VAkxL_46dk7u"
      },
      "execution_count": null,
      "outputs": []
    },
    {
      "cell_type": "code",
      "source": [
        "print(X_train)\n"
      ],
      "metadata": {
        "colab": {
          "base_uri": "https://localhost:8080/"
        },
        "id": "7R8N3kBtd2yw",
        "outputId": "a03e46ad-0361-428a-8463-f52e4a81f870"
      },
      "execution_count": null,
      "outputs": [
        {
          "output_type": "stream",
          "name": "stdout",
          "text": [
            "[[0.25825924 0.25460238 0.2445335  ... 0.21139637 0.21835942 0.22169067]\n",
            " [0.25460238 0.2445335  0.21873513 ... 0.21835942 0.22169067 0.22254227]\n",
            " [0.2445335  0.21873513 0.21387602 ... 0.22169067 0.22254227 0.22582342]\n",
            " ...\n",
            " [0.12090169 0.11829681 0.10552286 ... 0.1323732  0.13119599 0.15902317]\n",
            " [0.11829681 0.10552286 0.10697558 ... 0.13119599 0.15902317 0.17016907]\n",
            " [0.10552286 0.10697558 0.10339386 ... 0.15902317 0.17016907 0.16974327]]\n"
          ]
        }
      ]
    },
    {
      "cell_type": "code",
      "source": [
        "print(X_test.shape), print(Y_test.shape)"
      ],
      "metadata": {
        "colab": {
          "base_uri": "https://localhost:8080/"
        },
        "id": "a0nDwyTGeXOA",
        "outputId": "48cdf39c-1ef3-4ef0-e589-d52fc4f32eed"
      },
      "execution_count": null,
      "outputs": [
        {
          "output_type": "stream",
          "name": "stdout",
          "text": [
            "(339, 100)\n",
            "(339,)\n"
          ]
        },
        {
          "output_type": "execute_result",
          "data": {
            "text/plain": [
              "(None, None)"
            ]
          },
          "metadata": {},
          "execution_count": 34
        }
      ]
    },
    {
      "cell_type": "code",
      "source": [
        "# reshape input to be [samples, time steps, features] which is required for LSTM\n",
        "X_train = X_train.reshape(X_train.shape[0], X_train.shape[1], 1)\n",
        "X_test = X_test.reshape(X_test.shape[0], X_test.shape[1], 1)"
      ],
      "metadata": {
        "id": "ds4U-i61enSR"
      },
      "execution_count": null,
      "outputs": []
    },
    {
      "cell_type": "code",
      "source": [
        "### create the stacked LSTM model\n",
        "from tensorflow.keras.models import Sequential\n",
        "from tensorflow.keras.layers import Dense\n",
        "from tensorflow.keras.layers import LSTM"
      ],
      "metadata": {
        "id": "VDzC7VDCfVyx"
      },
      "execution_count": null,
      "outputs": []
    },
    {
      "cell_type": "code",
      "source": [
        "model = Sequential()\n",
        "model.add(LSTM(50, return_sequences = True, input_shape = (100,1)))\n",
        "model.add(LSTM(50, return_sequences = True))\n",
        "model.add(LSTM(50))\n",
        "model.add(Dense(1))\n",
        "model.compile(loss = 'mean_squared_error', optimizer = 'adam')"
      ],
      "metadata": {
        "id": "4lnH2TBMfmow"
      },
      "execution_count": null,
      "outputs": []
    },
    {
      "cell_type": "code",
      "source": [
        "model.summary()"
      ],
      "metadata": {
        "colab": {
          "base_uri": "https://localhost:8080/"
        },
        "id": "i_ESd6asgco1",
        "outputId": "5f7d303c-840d-44cf-8c67-aabd4c78c459"
      },
      "execution_count": null,
      "outputs": [
        {
          "output_type": "stream",
          "name": "stdout",
          "text": [
            "Model: \"sequential\"\n",
            "_________________________________________________________________\n",
            " Layer (type)                Output Shape              Param #   \n",
            "=================================================================\n",
            " lstm (LSTM)                 (None, 100, 50)           10400     \n",
            "                                                                 \n",
            " lstm_1 (LSTM)               (None, 100, 50)           20200     \n",
            "                                                                 \n",
            " lstm_2 (LSTM)               (None, 50)                20200     \n",
            "                                                                 \n",
            " dense (Dense)               (None, 1)                 51        \n",
            "                                                                 \n",
            "=================================================================\n",
            "Total params: 50851 (198.64 KB)\n",
            "Trainable params: 50851 (198.64 KB)\n",
            "Non-trainable params: 0 (0.00 Byte)\n",
            "_________________________________________________________________\n"
          ]
        }
      ]
    },
    {
      "cell_type": "code",
      "source": [
        "model.fit(X_train,Y_train,validation_data = (X_test,Y_test), epochs = 100, batch_size = 64, verbose = 1)"
      ],
      "metadata": {
        "colab": {
          "base_uri": "https://localhost:8080/"
        },
        "id": "S1z4XXSfgfao",
        "outputId": "3f7c987f-f882-44ca-9d75-95e0b227d02b"
      },
      "execution_count": null,
      "outputs": [
        {
          "output_type": "stream",
          "name": "stdout",
          "text": [
            "Epoch 1/100\n",
            "12/12 [==============================] - 12s 430ms/step - loss: 0.0459 - val_loss: 0.0019\n",
            "Epoch 2/100\n",
            "12/12 [==============================] - 2s 203ms/step - loss: 0.0155 - val_loss: 0.0047\n",
            "Epoch 3/100\n",
            "12/12 [==============================] - 4s 379ms/step - loss: 0.0134 - val_loss: 6.7490e-04\n",
            "Epoch 4/100\n",
            "12/12 [==============================] - 7s 590ms/step - loss: 0.0106 - val_loss: 3.1136e-04\n",
            "Epoch 5/100\n",
            "12/12 [==============================] - 5s 375ms/step - loss: 0.0109 - val_loss: 0.0020\n",
            "Epoch 6/100\n",
            "12/12 [==============================] - 4s 359ms/step - loss: 0.0087 - val_loss: 5.8678e-04\n",
            "Epoch 7/100\n",
            "12/12 [==============================] - 5s 440ms/step - loss: 0.0082 - val_loss: 2.7198e-04\n",
            "Epoch 8/100\n",
            "12/12 [==============================] - 4s 330ms/step - loss: 0.0068 - val_loss: 6.3417e-04\n",
            "Epoch 9/100\n",
            "12/12 [==============================] - 4s 298ms/step - loss: 0.0066 - val_loss: 7.8659e-04\n",
            "Epoch 10/100\n",
            "12/12 [==============================] - 6s 481ms/step - loss: 0.0055 - val_loss: 2.7909e-04\n",
            "Epoch 11/100\n",
            "12/12 [==============================] - 4s 306ms/step - loss: 0.0050 - val_loss: 5.8048e-04\n",
            "Epoch 12/100\n",
            "12/12 [==============================] - 4s 346ms/step - loss: 0.0046 - val_loss: 2.8826e-04\n",
            "Epoch 13/100\n",
            "12/12 [==============================] - 5s 446ms/step - loss: 0.0041 - val_loss: 5.0587e-04\n",
            "Epoch 14/100\n",
            "12/12 [==============================] - 4s 346ms/step - loss: 0.0054 - val_loss: 6.0224e-04\n",
            "Epoch 15/100\n",
            "12/12 [==============================] - 4s 325ms/step - loss: 0.0047 - val_loss: 2.3139e-04\n",
            "Epoch 16/100\n",
            "12/12 [==============================] - 5s 401ms/step - loss: 0.0035 - val_loss: 2.7656e-04\n",
            "Epoch 17/100\n",
            "12/12 [==============================] - 5s 412ms/step - loss: 0.0032 - val_loss: 2.6861e-04\n",
            "Epoch 18/100\n",
            "12/12 [==============================] - 4s 324ms/step - loss: 0.0031 - val_loss: 2.4577e-04\n",
            "Epoch 19/100\n",
            "12/12 [==============================] - 5s 425ms/step - loss: 0.0034 - val_loss: 2.2734e-04\n",
            "Epoch 20/100\n",
            "12/12 [==============================] - 5s 435ms/step - loss: 0.0036 - val_loss: 2.3974e-04\n",
            "Epoch 21/100\n",
            "12/12 [==============================] - 6s 521ms/step - loss: 0.0031 - val_loss: 1.8556e-04\n",
            "Epoch 22/100\n",
            "12/12 [==============================] - 3s 206ms/step - loss: 0.0026 - val_loss: 2.0573e-04\n",
            "Epoch 23/100\n",
            "12/12 [==============================] - 2s 203ms/step - loss: 0.0024 - val_loss: 2.6657e-04\n",
            "Epoch 24/100\n",
            "12/12 [==============================] - 3s 226ms/step - loss: 0.0020 - val_loss: 2.9656e-04\n",
            "Epoch 25/100\n",
            "12/12 [==============================] - 5s 444ms/step - loss: 0.0030 - val_loss: 2.7357e-04\n",
            "Epoch 26/100\n",
            "12/12 [==============================] - 4s 327ms/step - loss: 0.0023 - val_loss: 3.1320e-04\n",
            "Epoch 27/100\n",
            "12/12 [==============================] - 4s 322ms/step - loss: 0.0032 - val_loss: 1.9011e-04\n",
            "Epoch 28/100\n",
            "12/12 [==============================] - 5s 448ms/step - loss: 0.0040 - val_loss: 3.3716e-04\n",
            "Epoch 29/100\n",
            "12/12 [==============================] - 4s 314ms/step - loss: 0.0070 - val_loss: 0.0011\n",
            "Epoch 30/100\n",
            "12/12 [==============================] - 4s 298ms/step - loss: 0.0043 - val_loss: 5.1039e-04\n",
            "Epoch 31/100\n",
            "12/12 [==============================] - 7s 610ms/step - loss: 0.0037 - val_loss: 6.0433e-04\n",
            "Epoch 32/100\n",
            "12/12 [==============================] - 5s 441ms/step - loss: 0.0034 - val_loss: 2.1529e-04\n",
            "Epoch 33/100\n",
            "12/12 [==============================] - 6s 485ms/step - loss: 0.0031 - val_loss: 1.8836e-04\n",
            "Epoch 34/100\n",
            "12/12 [==============================] - 4s 320ms/step - loss: 0.0030 - val_loss: 2.0561e-04\n",
            "Epoch 35/100\n",
            "12/12 [==============================] - 4s 298ms/step - loss: 0.0028 - val_loss: 2.0902e-04\n",
            "Epoch 36/100\n",
            "12/12 [==============================] - 4s 373ms/step - loss: 0.0026 - val_loss: 1.9164e-04\n",
            "Epoch 37/100\n",
            "12/12 [==============================] - 4s 374ms/step - loss: 0.0034 - val_loss: 2.3721e-04\n",
            "Epoch 38/100\n",
            "12/12 [==============================] - 5s 461ms/step - loss: 0.0033 - val_loss: 6.7934e-04\n",
            "Epoch 39/100\n",
            "12/12 [==============================] - 6s 505ms/step - loss: 0.0028 - val_loss: 2.3460e-04\n",
            "Epoch 40/100\n",
            "12/12 [==============================] - 5s 428ms/step - loss: 0.0020 - val_loss: 2.6090e-04\n",
            "Epoch 41/100\n",
            "12/12 [==============================] - 4s 358ms/step - loss: 0.0018 - val_loss: 1.8705e-04\n",
            "Epoch 42/100\n",
            "12/12 [==============================] - 5s 433ms/step - loss: 0.0018 - val_loss: 2.2914e-04\n",
            "Epoch 43/100\n",
            "12/12 [==============================] - 4s 296ms/step - loss: 0.0017 - val_loss: 2.0867e-04\n",
            "Epoch 44/100\n",
            "12/12 [==============================] - 3s 280ms/step - loss: 0.0017 - val_loss: 2.0167e-04\n",
            "Epoch 45/100\n",
            "12/12 [==============================] - 5s 416ms/step - loss: 0.0019 - val_loss: 1.9335e-04\n",
            "Epoch 46/100\n",
            "12/12 [==============================] - 4s 294ms/step - loss: 0.0018 - val_loss: 1.9311e-04\n",
            "Epoch 47/100\n",
            "12/12 [==============================] - 4s 295ms/step - loss: 0.0015 - val_loss: 2.5509e-04\n",
            "Epoch 48/100\n",
            "12/12 [==============================] - 6s 556ms/step - loss: 0.0015 - val_loss: 2.1004e-04\n",
            "Epoch 49/100\n",
            "12/12 [==============================] - 4s 304ms/step - loss: 0.0016 - val_loss: 1.8871e-04\n",
            "Epoch 50/100\n",
            "12/12 [==============================] - 4s 368ms/step - loss: 0.0015 - val_loss: 2.0052e-04\n",
            "Epoch 51/100\n",
            "12/12 [==============================] - 5s 419ms/step - loss: 0.0018 - val_loss: 2.4406e-04\n",
            "Epoch 52/100\n",
            "12/12 [==============================] - 4s 319ms/step - loss: 0.0017 - val_loss: 1.9739e-04\n",
            "Epoch 53/100\n",
            "12/12 [==============================] - 4s 333ms/step - loss: 0.0018 - val_loss: 2.2756e-04\n",
            "Epoch 54/100\n",
            "12/12 [==============================] - 5s 451ms/step - loss: 0.0017 - val_loss: 1.8719e-04\n",
            "Epoch 55/100\n",
            "12/12 [==============================] - 5s 438ms/step - loss: 0.0018 - val_loss: 2.4259e-04\n",
            "Epoch 56/100\n",
            "12/12 [==============================] - 5s 417ms/step - loss: 0.0036 - val_loss: 1.9845e-04\n",
            "Epoch 57/100\n",
            "12/12 [==============================] - 5s 452ms/step - loss: 0.0033 - val_loss: 2.3064e-04\n",
            "Epoch 58/100\n",
            "12/12 [==============================] - 3s 238ms/step - loss: 0.0023 - val_loss: 2.0974e-04\n",
            "Epoch 59/100\n",
            "12/12 [==============================] - 2s 205ms/step - loss: 0.0018 - val_loss: 1.9500e-04\n",
            "Epoch 60/100\n",
            "12/12 [==============================] - 3s 234ms/step - loss: 0.0019 - val_loss: 1.8028e-04\n",
            "Epoch 61/100\n",
            "12/12 [==============================] - 3s 274ms/step - loss: 0.0017 - val_loss: 1.8333e-04\n",
            "Epoch 62/100\n",
            "12/12 [==============================] - 4s 314ms/step - loss: 0.0017 - val_loss: 2.2265e-04\n",
            "Epoch 63/100\n",
            "12/12 [==============================] - 2s 205ms/step - loss: 0.0017 - val_loss: 2.4093e-04\n",
            "Epoch 64/100\n",
            "12/12 [==============================] - 2s 205ms/step - loss: 0.0014 - val_loss: 2.0927e-04\n",
            "Epoch 65/100\n",
            "12/12 [==============================] - 4s 319ms/step - loss: 0.0015 - val_loss: 2.1019e-04\n",
            "Epoch 66/100\n",
            "12/12 [==============================] - 2s 206ms/step - loss: 0.0016 - val_loss: 2.1419e-04\n",
            "Epoch 67/100\n",
            "12/12 [==============================] - 3s 249ms/step - loss: 0.0013 - val_loss: 1.8677e-04\n",
            "Epoch 68/100\n",
            "12/12 [==============================] - 2s 200ms/step - loss: 0.0011 - val_loss: 1.9006e-04\n",
            "Epoch 69/100\n",
            "12/12 [==============================] - 3s 237ms/step - loss: 0.0019 - val_loss: 2.5215e-04\n",
            "Epoch 70/100\n",
            "12/12 [==============================] - 3s 263ms/step - loss: 0.0069 - val_loss: 8.7706e-04\n",
            "Epoch 71/100\n",
            "12/12 [==============================] - 2s 204ms/step - loss: 0.0058 - val_loss: 2.7630e-04\n",
            "Epoch 72/100\n",
            "12/12 [==============================] - 2s 200ms/step - loss: 0.0039 - val_loss: 2.1662e-04\n",
            "Epoch 73/100\n",
            "12/12 [==============================] - 2s 206ms/step - loss: 0.0023 - val_loss: 2.9386e-04\n",
            "Epoch 74/100\n",
            "12/12 [==============================] - 3s 258ms/step - loss: 0.0043 - val_loss: 2.5779e-04\n",
            "Epoch 75/100\n",
            "12/12 [==============================] - 3s 243ms/step - loss: 0.0022 - val_loss: 4.0710e-04\n",
            "Epoch 76/100\n",
            "12/12 [==============================] - 3s 228ms/step - loss: 0.0016 - val_loss: 1.8610e-04\n",
            "Epoch 77/100\n",
            "12/12 [==============================] - 6s 479ms/step - loss: 0.0014 - val_loss: 1.7789e-04\n",
            "Epoch 78/100\n",
            "12/12 [==============================] - 6s 482ms/step - loss: 0.0012 - val_loss: 1.7708e-04\n",
            "Epoch 79/100\n",
            "12/12 [==============================] - 2s 199ms/step - loss: 0.0014 - val_loss: 1.8079e-04\n",
            "Epoch 80/100\n",
            "12/12 [==============================] - 2s 199ms/step - loss: 0.0012 - val_loss: 1.6948e-04\n",
            "Epoch 81/100\n",
            "12/12 [==============================] - 2s 201ms/step - loss: 0.0013 - val_loss: 1.7069e-04\n",
            "Epoch 82/100\n",
            "12/12 [==============================] - 4s 310ms/step - loss: 0.0013 - val_loss: 2.3431e-04\n",
            "Epoch 83/100\n",
            "12/12 [==============================] - 2s 205ms/step - loss: 0.0020 - val_loss: 1.6814e-04\n",
            "Epoch 84/100\n",
            "12/12 [==============================] - 2s 202ms/step - loss: 0.0023 - val_loss: 2.1316e-04\n",
            "Epoch 85/100\n",
            "12/12 [==============================] - 2s 203ms/step - loss: 0.0021 - val_loss: 3.2594e-04\n",
            "Epoch 86/100\n",
            "12/12 [==============================] - 2s 206ms/step - loss: 0.0017 - val_loss: 2.1047e-04\n",
            "Epoch 87/100\n",
            "12/12 [==============================] - 4s 293ms/step - loss: 0.0016 - val_loss: 1.7623e-04\n",
            "Epoch 88/100\n",
            "12/12 [==============================] - 2s 196ms/step - loss: 0.0013 - val_loss: 2.8353e-04\n",
            "Epoch 89/100\n",
            "12/12 [==============================] - 2s 200ms/step - loss: 0.0014 - val_loss: 2.2140e-04\n",
            "Epoch 90/100\n",
            "12/12 [==============================] - 2s 205ms/step - loss: 0.0012 - val_loss: 1.6755e-04\n",
            "Epoch 91/100\n",
            "12/12 [==============================] - 3s 213ms/step - loss: 0.0019 - val_loss: 2.4922e-04\n",
            "Epoch 92/100\n",
            "12/12 [==============================] - 3s 282ms/step - loss: 0.0016 - val_loss: 2.0178e-04\n",
            "Epoch 93/100\n",
            "12/12 [==============================] - 2s 202ms/step - loss: 0.0012 - val_loss: 1.6621e-04\n",
            "Epoch 94/100\n",
            "12/12 [==============================] - 2s 198ms/step - loss: 0.0011 - val_loss: 3.2614e-04\n",
            "Epoch 95/100\n",
            "12/12 [==============================] - 2s 200ms/step - loss: 0.0019 - val_loss: 2.4027e-04\n",
            "Epoch 96/100\n",
            "12/12 [==============================] - 3s 238ms/step - loss: 0.0013 - val_loss: 1.7883e-04\n",
            "Epoch 97/100\n",
            "12/12 [==============================] - 3s 259ms/step - loss: 0.0011 - val_loss: 2.6305e-04\n",
            "Epoch 98/100\n",
            "12/12 [==============================] - 2s 198ms/step - loss: 0.0011 - val_loss: 1.6214e-04\n",
            "Epoch 99/100\n",
            "12/12 [==============================] - 2s 199ms/step - loss: 0.0017 - val_loss: 3.9288e-04\n",
            "Epoch 100/100\n",
            "12/12 [==============================] - 2s 199ms/step - loss: 0.0016 - val_loss: 1.9405e-04\n"
          ]
        },
        {
          "output_type": "execute_result",
          "data": {
            "text/plain": [
              "<keras.src.callbacks.History at 0x797d5812faf0>"
            ]
          },
          "metadata": {},
          "execution_count": 40
        }
      ]
    },
    {
      "cell_type": "code",
      "source": [
        "### lets do the prediction and check the performance metrics\n",
        "train_predict = model.predict(X_train)\n",
        "test_predict = model.predict(X_test)"
      ],
      "metadata": {
        "colab": {
          "base_uri": "https://localhost:8080/"
        },
        "id": "MGVS86ubhL_J",
        "outputId": "bbc71bdb-c53c-4884-d248-5a653fed6103"
      },
      "execution_count": null,
      "outputs": [
        {
          "output_type": "stream",
          "name": "stdout",
          "text": [
            "23/23 [==============================] - 3s 39ms/step\n",
            "11/11 [==============================] - 0s 38ms/step\n"
          ]
        }
      ]
    },
    {
      "cell_type": "code",
      "source": [
        "### Transform back to the original form\n",
        "train_predict = scaler.inverse_transform(train_predict)\n",
        "test_predict = scaler.inverse_transform(test_predict)"
      ],
      "metadata": {
        "id": "_VPK0T8NhlFJ"
      },
      "execution_count": null,
      "outputs": []
    },
    {
      "cell_type": "code",
      "source": [
        "### calculate RMSE performance matrics\n",
        "import math\n",
        "from sklearn.metrics import mean_squared_error\n",
        "math.sqrt(mean_squared_error(Y_train, train_predict))"
      ],
      "metadata": {
        "colab": {
          "base_uri": "https://localhost:8080/"
        },
        "id": "mBDIRHQahlOh",
        "outputId": "8981da41-98ea-4e51-95d5-75283df235fb"
      },
      "execution_count": null,
      "outputs": [
        {
          "output_type": "execute_result",
          "data": {
            "text/plain": [
              "0.03416254689079926"
            ]
          },
          "metadata": {},
          "execution_count": 44
        }
      ]
    },
    {
      "cell_type": "code",
      "source": [
        "math.sqrt(mean_squared_error(Y_test, test_predict))"
      ],
      "metadata": {
        "colab": {
          "base_uri": "https://localhost:8080/"
        },
        "id": "oWzshYLGhlRi",
        "outputId": "135340c0-a817-4cc1-8334-518452b59360"
      },
      "execution_count": null,
      "outputs": [
        {
          "output_type": "execute_result",
          "data": {
            "text/plain": [
              "0.013930322880835143"
            ]
          },
          "metadata": {},
          "execution_count": 45
        }
      ]
    },
    {
      "cell_type": "code",
      "source": [
        "### Plotting\n",
        "# shift train predictions for plotting\n",
        "look_back=100\n",
        "trainPredictPlot = np.empty_like(df1)\n",
        "trainPredictPlot[:, :] = np.nan\n",
        "trainPredictPlot[look_back:len(train_predict)+look_back, :] = train_predict\n",
        "# shift test predictions for plotting\n",
        "testPredictPlot = np.empty_like(df1)\n",
        "testPredictPlot[:, :] = np.nan\n",
        "testPredictPlot[len(train_predict)+(look_back*2)+1:len(df1)-1, :] = test_predict\n",
        "# plot baseline and predictions\n",
        "plt.plot(scaler.inverse_transform(df1))\n",
        "plt.plot(trainPredictPlot)\n",
        "plt.plot(testPredictPlot)\n",
        "plt.show()"
      ],
      "metadata": {
        "colab": {
          "base_uri": "https://localhost:8080/",
          "height": 430
        },
        "id": "Z389vSlKhldb",
        "outputId": "bdd2e891-5dbf-43f3-be9d-6f72cb1d4138"
      },
      "execution_count": null,
      "outputs": [
        {
          "output_type": "display_data",
          "data": {
            "text/plain": [
              "<Figure size 640x480 with 1 Axes>"
            ],
            "image/png": "[encoded data removed]"
          },
          "metadata": {}
        }
      ]
    },
    {
      "cell_type": "code",
      "source": [
        "len(test_data)"
      ],
      "metadata": {
        "colab": {
          "base_uri": "https://localhost:8080/"
        },
        "id": "bl-XxSaShlgR",
        "outputId": "f4ba5b11-3f4b-46b5-cfe0-679f6e6aa928"
      },
      "execution_count": null,
      "outputs": [
        {
          "output_type": "execute_result",
          "data": {
            "text/plain": [
              "440"
            ]
          },
          "metadata": {},
          "execution_count": 48
        }
      ]
    },
    {
      "cell_type": "code",
      "source": [
        "x_input=test_data[340:].reshape(1,-1)\n",
        "x_input.shape"
      ],
      "metadata": {
        "colab": {
          "base_uri": "https://localhost:8080/"
        },
        "id": "pxPODPLhhllb",
        "outputId": "aa117271-3a48-4479-84b2-155e45dd9796"
      },
      "execution_count": null,
      "outputs": [
        {
          "output_type": "execute_result",
          "data": {
            "text/plain": [
              "(1, 100)"
            ]
          },
          "metadata": {},
          "execution_count": 53
        }
      ]
    },
    {
      "cell_type": "code",
      "source": [
        "temp_input=list(x_input)\n",
        "temp_input=temp_input[0].tolist()"
      ],
      "metadata": {
        "id": "txmWQlQnzChK"
      },
      "execution_count": null,
      "outputs": []
    },
    {
      "cell_type": "code",
      "source": [
        "# demonstrate prediction for next 10 days\n",
        "from numpy import array\n",
        "\n",
        "lst_output=[]\n",
        "n_steps=100\n",
        "i=0\n",
        "while(i<30):\n",
        "\n",
        "    if(len(temp_input)>100):\n",
        "        #print(temp_input)\n",
        "        x_input=np.array(temp_input[1:])\n",
        "        print(\"{} day input {}\".format(i,x_input))\n",
        "        x_input=x_input.reshape(1,-1)\n",
        "        x_input = x_input.reshape((1, n_steps, 1))\n",
        "        #print(x_input)\n",
        "        yhat = model.predict(x_input, verbose=0)\n",
        "        print(\"{} day output {}\".format(i,yhat))\n",
        "        temp_input.extend(yhat[0].tolist())\n",
        "        temp_input=temp_input[1:]\n",
        "        #print(temp_input)\n",
        "        lst_output.extend(yhat.tolist())\n",
        "        i=i+1\n",
        "    else:\n",
        "        x_input = x_input.reshape((1, n_steps,1))\n",
        "        yhat = model.predict(x_input, verbose=0)\n",
        "        print(yhat[0])\n",
        "        temp_input.extend(yhat[0].tolist())\n",
        "        print(len(temp_input))\n",
        "        lst_output.extend(yhat.tolist())\n",
        "        i=i+1\n",
        "\n",
        "\n",
        "print(lst_output)"
      ],
      "metadata": {
        "colab": {
          "base_uri": "https://localhost:8080/"
        },
        "id": "_P9j-W70zG2J",
        "outputId": "b14af123-618b-4ff6-9c5f-dc48a518474d"
      },
      "execution_count": null,
      "outputs": [
        {
          "output_type": "stream",
          "name": "stdout",
          "text": [
            "[0.15932365]\n",
            "101\n",
            "1 day input [0.19829681 0.19556669 0.19579211 0.19316218 0.20077646 0.19997495\n",
            " 0.19644333 0.20343143 0.20641202 0.20726362 0.21823419 0.2144521\n",
            " 0.21162179 0.21282405 0.20999374 0.20480902 0.20348153 0.20771446\n",
            " 0.20964308 0.21001879 0.21828428 0.21763306 0.2210645  0.21613024\n",
            " 0.21314966 0.21517846 0.21735755 0.21956168 0.21635567 0.22289292\n",
            " 0.22444584 0.22232937 0.21475266 0.21122104 0.18822793 0.18036318\n",
            " 0.18274264 0.17871008 0.17815905 0.1777082  0.18189105 0.17685661\n",
            " 0.17465247 0.1682154  0.16944271 0.17282405 0.17630557 0.18604884\n",
            " 0.17417658 0.17976205 0.18371947 0.19356293 0.20240451 0.20295554\n",
            " 0.20693801 0.20753914 0.19053225 0.17713212 0.17868503 0.18164058\n",
            " 0.17397621 0.16874139 0.17257358 0.17074515 0.17815905 0.18091421\n",
            " 0.1719474  0.16804008 0.17019411 0.17342517 0.16310582 0.15927364\n",
            " 0.15992486 0.1612273  0.16758923 0.16420789 0.16736381 0.17049468\n",
            " 0.17695679 0.18071384 0.17921102 0.18274264 0.18502192 0.18036318\n",
            " 0.18003757 0.1761052  0.17282405 0.17187226 0.16541014 0.16571071\n",
            " 0.16681277 0.16095178 0.15040701 0.15373826 0.15892298 0.16012523\n",
            " 0.16814026 0.17715717 0.17485285 0.15932365]\n",
            "1 day output [[0.16041832]]\n",
            "2 day input [0.19556669 0.19579211 0.19316218 0.20077646 0.19997495 0.19644333\n",
            " 0.20343143 0.20641202 0.20726362 0.21823419 0.2144521  0.21162179\n",
            " 0.21282405 0.20999374 0.20480902 0.20348153 0.20771446 0.20964308\n",
            " 0.21001879 0.21828428 0.21763306 0.2210645  0.21613024 0.21314966\n",
            " 0.21517846 0.21735755 0.21956168 0.21635567 0.22289292 0.22444584\n",
            " 0.22232937 0.21475266 0.21122104 0.18822793 0.18036318 0.18274264\n",
            " 0.17871008 0.17815905 0.1777082  0.18189105 0.17685661 0.17465247\n",
            " 0.1682154  0.16944271 0.17282405 0.17630557 0.18604884 0.17417658\n",
            " 0.17976205 0.18371947 0.19356293 0.20240451 0.20295554 0.20693801\n",
            " 0.20753914 0.19053225 0.17713212 0.17868503 0.18164058 0.17397621\n",
            " 0.16874139 0.17257358 0.17074515 0.17815905 0.18091421 0.1719474\n",
            " 0.16804008 0.17019411 0.17342517 0.16310582 0.15927364 0.15992486\n",
            " 0.1612273  0.16758923 0.16420789 0.16736381 0.17049468 0.17695679\n",
            " 0.18071384 0.17921102 0.18274264 0.18502192 0.18036318 0.18003757\n",
            " 0.1761052  0.17282405 0.17187226 0.16541014 0.16571071 0.16681277\n",
            " 0.16095178 0.15040701 0.15373826 0.15892298 0.16012523 0.16814026\n",
            " 0.17715717 0.17485285 0.15932365 0.16041832]\n",
            "2 day output [[0.16090119]]\n",
            "3 day input [0.19579211 0.19316218 0.20077646 0.19997495 0.19644333 0.20343143\n",
            " 0.20641202 0.20726362 0.21823419 0.2144521  0.21162179 0.21282405\n",
            " 0.20999374 0.20480902 0.20348153 0.20771446 0.20964308 0.21001879\n",
            " 0.21828428 0.21763306 0.2210645  0.21613024 0.21314966 0.21517846\n",
            " 0.21735755 0.21956168 0.21635567 0.22289292 0.22444584 0.22232937\n",
            " 0.21475266 0.21122104 0.18822793 0.18036318 0.18274264 0.17871008\n",
            " 0.17815905 0.1777082  0.18189105 0.17685661 0.17465247 0.1682154\n",
            " 0.16944271 0.17282405 0.17630557 0.18604884 0.17417658 0.17976205\n",
            " 0.18371947 0.19356293 0.20240451 0.20295554 0.20693801 0.20753914\n",
            " 0.19053225 0.17713212 0.17868503 0.18164058 0.17397621 0.16874139\n",
            " 0.17257358 0.17074515 0.17815905 0.18091421 0.1719474  0.16804008\n",
            " 0.17019411 0.17342517 0.16310582 0.15927364 0.15992486 0.1612273\n",
            " 0.16758923 0.16420789 0.16736381 0.17049468 0.17695679 0.18071384\n",
            " 0.17921102 0.18274264 0.18502192 0.18036318 0.18003757 0.1761052\n",
            " 0.17282405 0.17187226 0.16541014 0.16571071 0.16681277 0.16095178\n",
            " 0.15040701 0.15373826 0.15892298 0.16012523 0.16814026 0.17715717\n",
            " 0.17485285 0.15932365 0.16041832 0.16090119]\n",
            "3 day output [[0.16088235]]\n",
            "4 day input [0.19316218 0.20077646 0.19997495 0.19644333 0.20343143 0.20641202\n",
            " 0.20726362 0.21823419 0.2144521  0.21162179 0.21282405 0.20999374\n",
            " 0.20480902 0.20348153 0.20771446 0.20964308 0.21001879 0.21828428\n",
            " 0.21763306 0.2210645  0.21613024 0.21314966 0.21517846 0.21735755\n",
            " 0.21956168 0.21635567 0.22289292 0.22444584 0.22232937 0.21475266\n",
            " 0.21122104 0.18822793 0.18036318 0.18274264 0.17871008 0.17815905\n",
            " 0.1777082  0.18189105 0.17685661 0.17465247 0.1682154  0.16944271\n",
            " 0.17282405 0.17630557 0.18604884 0.17417658 0.17976205 0.18371947\n",
            " 0.19356293 0.20240451 0.20295554 0.20693801 0.20753914 0.19053225\n",
            " 0.17713212 0.17868503 0.18164058 0.17397621 0.16874139 0.17257358\n",
            " 0.17074515 0.17815905 0.18091421 0.1719474  0.16804008 0.17019411\n",
            " 0.17342517 0.16310582 0.15927364 0.15992486 0.1612273  0.16758923\n",
            " 0.16420789 0.16736381 0.17049468 0.17695679 0.18071384 0.17921102\n",
            " 0.18274264 0.18502192 0.18036318 0.18003757 0.1761052  0.17282405\n",
            " 0.17187226 0.16541014 0.16571071 0.16681277 0.16095178 0.15040701\n",
            " 0.15373826 0.15892298 0.16012523 0.16814026 0.17715717 0.17485285\n",
            " 0.15932365 0.16041832 0.16090119 0.16088235]\n",
            "4 day output [[0.16053188]]\n",
            "5 day input [0.20077646 0.19997495 0.19644333 0.20343143 0.20641202 0.20726362\n",
            " 0.21823419 0.2144521  0.21162179 0.21282405 0.20999374 0.20480902\n",
            " 0.20348153 0.20771446 0.20964308 0.21001879 0.21828428 0.21763306\n",
            " 0.2210645  0.21613024 0.21314966 0.21517846 0.21735755 0.21956168\n",
            " 0.21635567 0.22289292 0.22444584 0.22232937 0.21475266 0.21122104\n",
            " 0.18822793 0.18036318 0.18274264 0.17871008 0.17815905 0.1777082\n",
            " 0.18189105 0.17685661 0.17465247 0.1682154  0.16944271 0.17282405\n",
            " 0.17630557 0.18604884 0.17417658 0.17976205 0.18371947 0.19356293\n",
            " 0.20240451 0.20295554 0.20693801 0.20753914 0.19053225 0.17713212\n",
            " 0.17868503 0.18164058 0.17397621 0.16874139 0.17257358 0.17074515\n",
            " 0.17815905 0.18091421 0.1719474  0.16804008 0.17019411 0.17342517\n",
            " 0.16310582 0.15927364 0.15992486 0.1612273  0.16758923 0.16420789\n",
            " 0.16736381 0.17049468 0.17695679 0.18071384 0.17921102 0.18274264\n",
            " 0.18502192 0.18036318 0.18003757 0.1761052  0.17282405 0.17187226\n",
            " 0.16541014 0.16571071 0.16681277 0.16095178 0.15040701 0.15373826\n",
            " 0.15892298 0.16012523 0.16814026 0.17715717 0.17485285 0.15932365\n",
            " 0.16041832 0.16090119 0.16088235 0.16053188]\n",
            "5 day output [[0.15998821]]\n",
            "6 day input [0.19997495 0.19644333 0.20343143 0.20641202 0.20726362 0.21823419\n",
            " 0.2144521  0.21162179 0.21282405 0.20999374 0.20480902 0.20348153\n",
            " 0.20771446 0.20964308 0.21001879 0.21828428 0.21763306 0.2210645\n",
            " 0.21613024 0.21314966 0.21517846 0.21735755 0.21956168 0.21635567\n",
            " 0.22289292 0.22444584 0.22232937 0.21475266 0.21122104 0.18822793\n",
            " 0.18036318 0.18274264 0.17871008 0.17815905 0.1777082  0.18189105\n",
            " 0.17685661 0.17465247 0.1682154  0.16944271 0.17282405 0.17630557\n",
            " 0.18604884 0.17417658 0.17976205 0.18371947 0.19356293 0.20240451\n",
            " 0.20295554 0.20693801 0.20753914 0.19053225 0.17713212 0.17868503\n",
            " 0.18164058 0.17397621 0.16874139 0.17257358 0.17074515 0.17815905\n",
            " 0.18091421 0.1719474  0.16804008 0.17019411 0.17342517 0.16310582\n",
            " 0.15927364 0.15992486 0.1612273  0.16758923 0.16420789 0.16736381\n",
            " 0.17049468 0.17695679 0.18071384 0.17921102 0.18274264 0.18502192\n",
            " 0.18036318 0.18003757 0.1761052  0.17282405 0.17187226 0.16541014\n",
            " 0.16571071 0.16681277 0.16095178 0.15040701 0.15373826 0.15892298\n",
            " 0.16012523 0.16814026 0.17715717 0.17485285 0.15932365 0.16041832\n",
            " 0.16090119 0.16088235 0.16053188 0.15998821]\n",
            "6 day output [[0.15934178]]\n",
            "7 day input [0.19644333 0.20343143 0.20641202 0.20726362 0.21823419 0.2144521\n",
            " 0.21162179 0.21282405 0.20999374 0.20480902 0.20348153 0.20771446\n",
            " 0.20964308 0.21001879 0.21828428 0.21763306 0.2210645  0.21613024\n",
            " 0.21314966 0.21517846 0.21735755 0.21956168 0.21635567 0.22289292\n",
            " 0.22444584 0.22232937 0.21475266 0.21122104 0.18822793 0.18036318\n",
            " 0.18274264 0.17871008 0.17815905 0.1777082  0.18189105 0.17685661\n",
            " 0.17465247 0.1682154  0.16944271 0.17282405 0.17630557 0.18604884\n",
            " 0.17417658 0.17976205 0.18371947 0.19356293 0.20240451 0.20295554\n",
            " 0.20693801 0.20753914 0.19053225 0.17713212 0.17868503 0.18164058\n",
            " 0.17397621 0.16874139 0.17257358 0.17074515 0.17815905 0.18091421\n",
            " 0.1719474  0.16804008 0.17019411 0.17342517 0.16310582 0.15927364\n",
            " 0.15992486 0.1612273  0.16758923 0.16420789 0.16736381 0.17049468\n",
            " 0.17695679 0.18071384 0.17921102 0.18274264 0.18502192 0.18036318\n",
            " 0.18003757 0.1761052  0.17282405 0.17187226 0.16541014 0.16571071\n",
            " 0.16681277 0.16095178 0.15040701 0.15373826 0.15892298 0.16012523\n",
            " 0.16814026 0.17715717 0.17485285 0.15932365 0.16041832 0.16090119\n",
            " 0.16088235 0.16053188 0.15998821 0.15934178]\n",
            "7 day output [[0.15864442]]\n",
            "8 day input [0.20343143 0.20641202 0.20726362 0.21823419 0.2144521  0.21162179\n",
            " 0.21282405 0.20999374 0.20480902 0.20348153 0.20771446 0.20964308\n",
            " 0.21001879 0.21828428 0.21763306 0.2210645  0.21613024 0.21314966\n",
            " 0.21517846 0.21735755 0.21956168 0.21635567 0.22289292 0.22444584\n",
            " 0.22232937 0.21475266 0.21122104 0.18822793 0.18036318 0.18274264\n",
            " 0.17871008 0.17815905 0.1777082  0.18189105 0.17685661 0.17465247\n",
            " 0.1682154  0.16944271 0.17282405 0.17630557 0.18604884 0.17417658\n",
            " 0.17976205 0.18371947 0.19356293 0.20240451 0.20295554 0.20693801\n",
            " 0.20753914 0.19053225 0.17713212 0.17868503 0.18164058 0.17397621\n",
            " 0.16874139 0.17257358 0.17074515 0.17815905 0.18091421 0.1719474\n",
            " 0.16804008 0.17019411 0.17342517 0.16310582 0.15927364 0.15992486\n",
            " 0.1612273  0.16758923 0.16420789 0.16736381 0.17049468 0.17695679\n",
            " 0.18071384 0.17921102 0.18274264 0.18502192 0.18036318 0.18003757\n",
            " 0.1761052  0.17282405 0.17187226 0.16541014 0.16571071 0.16681277\n",
            " 0.16095178 0.15040701 0.15373826 0.15892298 0.16012523 0.16814026\n",
            " 0.17715717 0.17485285 0.15932365 0.16041832 0.16090119 0.16088235\n",
            " 0.16053188 0.15998821 0.15934178 0.15864442]\n",
            "8 day output [[0.15792309]]\n",
            "9 day input [0.20641202 0.20726362 0.21823419 0.2144521  0.21162179 0.21282405\n",
            " 0.20999374 0.20480902 0.20348153 0.20771446 0.20964308 0.21001879\n",
            " 0.21828428 0.21763306 0.2210645  0.21613024 0.21314966 0.21517846\n",
            " 0.21735755 0.21956168 0.21635567 0.22289292 0.22444584 0.22232937\n",
            " 0.21475266 0.21122104 0.18822793 0.18036318 0.18274264 0.17871008\n",
            " 0.17815905 0.1777082  0.18189105 0.17685661 0.17465247 0.1682154\n",
            " 0.16944271 0.17282405 0.17630557 0.18604884 0.17417658 0.17976205\n",
            " 0.18371947 0.19356293 0.20240451 0.20295554 0.20693801 0.20753914\n",
            " 0.19053225 0.17713212 0.17868503 0.18164058 0.17397621 0.16874139\n",
            " 0.17257358 0.17074515 0.17815905 0.18091421 0.1719474  0.16804008\n",
            " 0.17019411 0.17342517 0.16310582 0.15927364 0.15992486 0.1612273\n",
            " 0.16758923 0.16420789 0.16736381 0.17049468 0.17695679 0.18071384\n",
            " 0.17921102 0.18274264 0.18502192 0.18036318 0.18003757 0.1761052\n",
            " 0.17282405 0.17187226 0.16541014 0.16571071 0.16681277 0.16095178\n",
            " 0.15040701 0.15373826 0.15892298 0.16012523 0.16814026 0.17715717\n",
            " 0.17485285 0.15932365 0.16041832 0.16090119 0.16088235 0.16053188\n",
            " 0.15998821 0.15934178 0.15864442 0.15792309]\n",
            "9 day output [[0.15719092]]\n",
            "10 day input [0.20726362 0.21823419 0.2144521  0.21162179 0.21282405 0.20999374\n",
            " 0.20480902 0.20348153 0.20771446 0.20964308 0.21001879 0.21828428\n",
            " 0.21763306 0.2210645  0.21613024 0.21314966 0.21517846 0.21735755\n",
            " 0.21956168 0.21635567 0.22289292 0.22444584 0.22232937 0.21475266\n",
            " 0.21122104 0.18822793 0.18036318 0.18274264 0.17871008 0.17815905\n",
            " 0.1777082  0.18189105 0.17685661 0.17465247 0.1682154  0.16944271\n",
            " 0.17282405 0.17630557 0.18604884 0.17417658 0.17976205 0.18371947\n",
            " 0.19356293 0.20240451 0.20295554 0.20693801 0.20753914 0.19053225\n",
            " 0.17713212 0.17868503 0.18164058 0.17397621 0.16874139 0.17257358\n",
            " 0.17074515 0.17815905 0.18091421 0.1719474  0.16804008 0.17019411\n",
            " 0.17342517 0.16310582 0.15927364 0.15992486 0.1612273  0.16758923\n",
            " 0.16420789 0.16736381 0.17049468 0.17695679 0.18071384 0.17921102\n",
            " 0.18274264 0.18502192 0.18036318 0.18003757 0.1761052  0.17282405\n",
            " 0.17187226 0.16541014 0.16571071 0.16681277 0.16095178 0.15040701\n",
            " 0.15373826 0.15892298 0.16012523 0.16814026 0.17715717 0.17485285\n",
            " 0.15932365 0.16041832 0.16090119 0.16088235 0.16053188 0.15998821\n",
            " 0.15934178 0.15864442 0.15792309 0.15719092]\n",
            "10 day output [[0.1564543]]\n",
            "11 day input [0.21823419 0.2144521  0.21162179 0.21282405 0.20999374 0.20480902\n",
            " 0.20348153 0.20771446 0.20964308 0.21001879 0.21828428 0.21763306\n",
            " 0.2210645  0.21613024 0.21314966 0.21517846 0.21735755 0.21956168\n",
            " 0.21635567 0.22289292 0.22444584 0.22232937 0.21475266 0.21122104\n",
            " 0.18822793 0.18036318 0.18274264 0.17871008 0.17815905 0.1777082\n",
            " 0.18189105 0.17685661 0.17465247 0.1682154  0.16944271 0.17282405\n",
            " 0.17630557 0.18604884 0.17417658 0.17976205 0.18371947 0.19356293\n",
            " 0.20240451 0.20295554 0.20693801 0.20753914 0.19053225 0.17713212\n",
            " 0.17868503 0.18164058 0.17397621 0.16874139 0.17257358 0.17074515\n",
            " 0.17815905 0.18091421 0.1719474  0.16804008 0.17019411 0.17342517\n",
            " 0.16310582 0.15927364 0.15992486 0.1612273  0.16758923 0.16420789\n",
            " 0.16736381 0.17049468 0.17695679 0.18071384 0.17921102 0.18274264\n",
            " 0.18502192 0.18036318 0.18003757 0.1761052  0.17282405 0.17187226\n",
            " 0.16541014 0.16571071 0.16681277 0.16095178 0.15040701 0.15373826\n",
            " 0.15892298 0.16012523 0.16814026 0.17715717 0.17485285 0.15932365\n",
            " 0.16041832 0.16090119 0.16088235 0.16053188 0.15998821 0.15934178\n",
            " 0.15864442 0.15792309 0.15719092 0.15645429]\n",
            "11 day output [[0.15571631]]\n",
            "12 day input [0.2144521  0.21162179 0.21282405 0.20999374 0.20480902 0.20348153\n",
            " 0.20771446 0.20964308 0.21001879 0.21828428 0.21763306 0.2210645\n",
            " 0.21613024 0.21314966 0.21517846 0.21735755 0.21956168 0.21635567\n",
            " 0.22289292 0.22444584 0.22232937 0.21475266 0.21122104 0.18822793\n",
            " 0.18036318 0.18274264 0.17871008 0.17815905 0.1777082  0.18189105\n",
            " 0.17685661 0.17465247 0.1682154  0.16944271 0.17282405 0.17630557\n",
            " 0.18604884 0.17417658 0.17976205 0.18371947 0.19356293 0.20240451\n",
            " 0.20295554 0.20693801 0.20753914 0.19053225 0.17713212 0.17868503\n",
            " 0.18164058 0.17397621 0.16874139 0.17257358 0.17074515 0.17815905\n",
            " 0.18091421 0.1719474  0.16804008 0.17019411 0.17342517 0.16310582\n",
            " 0.15927364 0.15992486 0.1612273  0.16758923 0.16420789 0.16736381\n",
            " 0.17049468 0.17695679 0.18071384 0.17921102 0.18274264 0.18502192\n",
            " 0.18036318 0.18003757 0.1761052  0.17282405 0.17187226 0.16541014\n",
            " 0.16571071 0.16681277 0.16095178 0.15040701 0.15373826 0.15892298\n",
            " 0.16012523 0.16814026 0.17715717 0.17485285 0.15932365 0.16041832\n",
            " 0.16090119 0.16088235 0.16053188 0.15998821 0.15934178 0.15864442\n",
            " 0.15792309 0.15719092 0.15645429 0.15571631]\n",
            "12 day output [[0.15497895]]\n",
            "13 day input [0.21162179 0.21282405 0.20999374 0.20480902 0.20348153 0.20771446\n",
            " 0.20964308 0.21001879 0.21828428 0.21763306 0.2210645  0.21613024\n",
            " 0.21314966 0.21517846 0.21735755 0.21956168 0.21635567 0.22289292\n",
            " 0.22444584 0.22232937 0.21475266 0.21122104 0.18822793 0.18036318\n",
            " 0.18274264 0.17871008 0.17815905 0.1777082  0.18189105 0.17685661\n",
            " 0.17465247 0.1682154  0.16944271 0.17282405 0.17630557 0.18604884\n",
            " 0.17417658 0.17976205 0.18371947 0.19356293 0.20240451 0.20295554\n",
            " 0.20693801 0.20753914 0.19053225 0.17713212 0.17868503 0.18164058\n",
            " 0.17397621 0.16874139 0.17257358 0.17074515 0.17815905 0.18091421\n",
            " 0.1719474  0.16804008 0.17019411 0.17342517 0.16310582 0.15927364\n",
            " 0.15992486 0.1612273  0.16758923 0.16420789 0.16736381 0.17049468\n",
            " 0.17695679 0.18071384 0.17921102 0.18274264 0.18502192 0.18036318\n",
            " 0.18003757 0.1761052  0.17282405 0.17187226 0.16541014 0.16571071\n",
            " 0.16681277 0.16095178 0.15040701 0.15373826 0.15892298 0.16012523\n",
            " 0.16814026 0.17715717 0.17485285 0.15932365 0.16041832 0.16090119\n",
            " 0.16088235 0.16053188 0.15998821 0.15934178 0.15864442 0.15792309\n",
            " 0.15719092 0.15645429 0.15571631 0.15497895]\n",
            "13 day output [[0.15424353]]\n",
            "14 day input [0.21282405 0.20999374 0.20480902 0.20348153 0.20771446 0.20964308\n",
            " 0.21001879 0.21828428 0.21763306 0.2210645  0.21613024 0.21314966\n",
            " 0.21517846 0.21735755 0.21956168 0.21635567 0.22289292 0.22444584\n",
            " 0.22232937 0.21475266 0.21122104 0.18822793 0.18036318 0.18274264\n",
            " 0.17871008 0.17815905 0.1777082  0.18189105 0.17685661 0.17465247\n",
            " 0.1682154  0.16944271 0.17282405 0.17630557 0.18604884 0.17417658\n",
            " 0.17976205 0.18371947 0.19356293 0.20240451 0.20295554 0.20693801\n",
            " 0.20753914 0.19053225 0.17713212 0.17868503 0.18164058 0.17397621\n",
            " 0.16874139 0.17257358 0.17074515 0.17815905 0.18091421 0.1719474\n",
            " 0.16804008 0.17019411 0.17342517 0.16310582 0.15927364 0.15992486\n",
            " 0.1612273  0.16758923 0.16420789 0.16736381 0.17049468 0.17695679\n",
            " 0.18071384 0.17921102 0.18274264 0.18502192 0.18036318 0.18003757\n",
            " 0.1761052  0.17282405 0.17187226 0.16541014 0.16571071 0.16681277\n",
            " 0.16095178 0.15040701 0.15373826 0.15892298 0.16012523 0.16814026\n",
            " 0.17715717 0.17485285 0.15932365 0.16041832 0.16090119 0.16088235\n",
            " 0.16053188 0.15998821 0.15934178 0.15864442 0.15792309 0.15719092\n",
            " 0.15645429 0.15571631 0.15497895 0.15424353]\n",
            "14 day output [[0.15351109]]\n",
            "15 day input [0.20999374 0.20480902 0.20348153 0.20771446 0.20964308 0.21001879\n",
            " 0.21828428 0.21763306 0.2210645  0.21613024 0.21314966 0.21517846\n",
            " 0.21735755 0.21956168 0.21635567 0.22289292 0.22444584 0.22232937\n",
            " 0.21475266 0.21122104 0.18822793 0.18036318 0.18274264 0.17871008\n",
            " 0.17815905 0.1777082  0.18189105 0.17685661 0.17465247 0.1682154\n",
            " 0.16944271 0.17282405 0.17630557 0.18604884 0.17417658 0.17976205\n",
            " 0.18371947 0.19356293 0.20240451 0.20295554 0.20693801 0.20753914\n",
            " 0.19053225 0.17713212 0.17868503 0.18164058 0.17397621 0.16874139\n",
            " 0.17257358 0.17074515 0.17815905 0.18091421 0.1719474  0.16804008\n",
            " 0.17019411 0.17342517 0.16310582 0.15927364 0.15992486 0.1612273\n",
            " 0.16758923 0.16420789 0.16736381 0.17049468 0.17695679 0.18071384\n",
            " 0.17921102 0.18274264 0.18502192 0.18036318 0.18003757 0.1761052\n",
            " 0.17282405 0.17187226 0.16541014 0.16571071 0.16681277 0.16095178\n",
            " 0.15040701 0.15373826 0.15892298 0.16012523 0.16814026 0.17715717\n",
            " 0.17485285 0.15932365 0.16041832 0.16090119 0.16088235 0.16053188\n",
            " 0.15998821 0.15934178 0.15864442 0.15792309 0.15719092 0.15645429\n",
            " 0.15571631 0.15497895 0.15424353 0.15351109]\n",
            "15 day output [[0.15278238]]\n",
            "16 day input [0.20480902 0.20348153 0.20771446 0.20964308 0.21001879 0.21828428\n",
            " 0.21763306 0.2210645  0.21613024 0.21314966 0.21517846 0.21735755\n",
            " 0.21956168 0.21635567 0.22289292 0.22444584 0.22232937 0.21475266\n",
            " 0.21122104 0.18822793 0.18036318 0.18274264 0.17871008 0.17815905\n",
            " 0.1777082  0.18189105 0.17685661 0.17465247 0.1682154  0.16944271\n",
            " 0.17282405 0.17630557 0.18604884 0.17417658 0.17976205 0.18371947\n",
            " 0.19356293 0.20240451 0.20295554 0.20693801 0.20753914 0.19053225\n",
            " 0.17713212 0.17868503 0.18164058 0.17397621 0.16874139 0.17257358\n",
            " 0.17074515 0.17815905 0.18091421 0.1719474  0.16804008 0.17019411\n",
            " 0.17342517 0.16310582 0.15927364 0.15992486 0.1612273  0.16758923\n",
            " 0.16420789 0.16736381 0.17049468 0.17695679 0.18071384 0.17921102\n",
            " 0.18274264 0.18502192 0.18036318 0.18003757 0.1761052  0.17282405\n",
            " 0.17187226 0.16541014 0.16571071 0.16681277 0.16095178 0.15040701\n",
            " 0.15373826 0.15892298 0.16012523 0.16814026 0.17715717 0.17485285\n",
            " 0.15932365 0.16041832 0.16090119 0.16088235 0.16053188 0.15998821\n",
            " 0.15934178 0.15864442 0.15792309 0.15719092 0.15645429 0.15571631\n",
            " 0.15497895 0.15424353 0.15351109 0.15278238]\n",
            "16 day output [[0.15205775]]\n",
            "17 day input [0.20348153 0.20771446 0.20964308 0.21001879 0.21828428 0.21763306\n",
            " 0.2210645  0.21613024 0.21314966 0.21517846 0.21735755 0.21956168\n",
            " 0.21635567 0.22289292 0.22444584 0.22232937 0.21475266 0.21122104\n",
            " 0.18822793 0.18036318 0.18274264 0.17871008 0.17815905 0.1777082\n",
            " 0.18189105 0.17685661 0.17465247 0.1682154  0.16944271 0.17282405\n",
            " 0.17630557 0.18604884 0.17417658 0.17976205 0.18371947 0.19356293\n",
            " 0.20240451 0.20295554 0.20693801 0.20753914 0.19053225 0.17713212\n",
            " 0.17868503 0.18164058 0.17397621 0.16874139 0.17257358 0.17074515\n",
            " 0.17815905 0.18091421 0.1719474  0.16804008 0.17019411 0.17342517\n",
            " 0.16310582 0.15927364 0.15992486 0.1612273  0.16758923 0.16420789\n",
            " 0.16736381 0.17049468 0.17695679 0.18071384 0.17921102 0.18274264\n",
            " 0.18502192 0.18036318 0.18003757 0.1761052  0.17282405 0.17187226\n",
            " 0.16541014 0.16571071 0.16681277 0.16095178 0.15040701 0.15373826\n",
            " 0.15892298 0.16012523 0.16814026 0.17715717 0.17485285 0.15932365\n",
            " 0.16041832 0.16090119 0.16088235 0.16053188 0.15998821 0.15934178\n",
            " 0.15864442 0.15792309 0.15719092 0.15645429 0.15571631 0.15497895\n",
            " 0.15424353 0.15351109 0.15278238 0.15205775]\n",
            "17 day output [[0.15133733]]\n",
            "18 day input [0.20771446 0.20964308 0.21001879 0.21828428 0.21763306 0.2210645\n",
            " 0.21613024 0.21314966 0.21517846 0.21735755 0.21956168 0.21635567\n",
            " 0.22289292 0.22444584 0.22232937 0.21475266 0.21122104 0.18822793\n",
            " 0.18036318 0.18274264 0.17871008 0.17815905 0.1777082  0.18189105\n",
            " 0.17685661 0.17465247 0.1682154  0.16944271 0.17282405 0.17630557\n",
            " 0.18604884 0.17417658 0.17976205 0.18371947 0.19356293 0.20240451\n",
            " 0.20295554 0.20693801 0.20753914 0.19053225 0.17713212 0.17868503\n",
            " 0.18164058 0.17397621 0.16874139 0.17257358 0.17074515 0.17815905\n",
            " 0.18091421 0.1719474  0.16804008 0.17019411 0.17342517 0.16310582\n",
            " 0.15927364 0.15992486 0.1612273  0.16758923 0.16420789 0.16736381\n",
            " 0.17049468 0.17695679 0.18071384 0.17921102 0.18274264 0.18502192\n",
            " 0.18036318 0.18003757 0.1761052  0.17282405 0.17187226 0.16541014\n",
            " 0.16571071 0.16681277 0.16095178 0.15040701 0.15373826 0.15892298\n",
            " 0.16012523 0.16814026 0.17715717 0.17485285 0.15932365 0.16041832\n",
            " 0.16090119 0.16088235 0.16053188 0.15998821 0.15934178 0.15864442\n",
            " 0.15792309 0.15719092 0.15645429 0.15571631 0.15497895 0.15424353\n",
            " 0.15351109 0.15278238 0.15205775 0.15133733]\n",
            "18 day output [[0.15062091]]\n",
            "19 day input [0.20964308 0.21001879 0.21828428 0.21763306 0.2210645  0.21613024\n",
            " 0.21314966 0.21517846 0.21735755 0.21956168 0.21635567 0.22289292\n",
            " 0.22444584 0.22232937 0.21475266 0.21122104 0.18822793 0.18036318\n",
            " 0.18274264 0.17871008 0.17815905 0.1777082  0.18189105 0.17685661\n",
            " 0.17465247 0.1682154  0.16944271 0.17282405 0.17630557 0.18604884\n",
            " 0.17417658 0.17976205 0.18371947 0.19356293 0.20240451 0.20295554\n",
            " 0.20693801 0.20753914 0.19053225 0.17713212 0.17868503 0.18164058\n",
            " 0.17397621 0.16874139 0.17257358 0.17074515 0.17815905 0.18091421\n",
            " 0.1719474  0.16804008 0.17019411 0.17342517 0.16310582 0.15927364\n",
            " 0.15992486 0.1612273  0.16758923 0.16420789 0.16736381 0.17049468\n",
            " 0.17695679 0.18071384 0.17921102 0.18274264 0.18502192 0.18036318\n",
            " 0.18003757 0.1761052  0.17282405 0.17187226 0.16541014 0.16571071\n",
            " 0.16681277 0.16095178 0.15040701 0.15373826 0.15892298 0.16012523\n",
            " 0.16814026 0.17715717 0.17485285 0.15932365 0.16041832 0.16090119\n",
            " 0.16088235 0.16053188 0.15998821 0.15934178 0.15864442 0.15792309\n",
            " 0.15719092 0.15645429 0.15571631 0.15497895 0.15424353 0.15351109\n",
            " 0.15278238 0.15205775 0.15133733 0.15062091]\n",
            "19 day output [[0.14990807]]\n",
            "20 day input [0.21001879 0.21828428 0.21763306 0.2210645  0.21613024 0.21314966\n",
            " 0.21517846 0.21735755 0.21956168 0.21635567 0.22289292 0.22444584\n",
            " 0.22232937 0.21475266 0.21122104 0.18822793 0.18036318 0.18274264\n",
            " 0.17871008 0.17815905 0.1777082  0.18189105 0.17685661 0.17465247\n",
            " 0.1682154  0.16944271 0.17282405 0.17630557 0.18604884 0.17417658\n",
            " 0.17976205 0.18371947 0.19356293 0.20240451 0.20295554 0.20693801\n",
            " 0.20753914 0.19053225 0.17713212 0.17868503 0.18164058 0.17397621\n",
            " 0.16874139 0.17257358 0.17074515 0.17815905 0.18091421 0.1719474\n",
            " 0.16804008 0.17019411 0.17342517 0.16310582 0.15927364 0.15992486\n",
            " 0.1612273  0.16758923 0.16420789 0.16736381 0.17049468 0.17695679\n",
            " 0.18071384 0.17921102 0.18274264 0.18502192 0.18036318 0.18003757\n",
            " 0.1761052  0.17282405 0.17187226 0.16541014 0.16571071 0.16681277\n",
            " 0.16095178 0.15040701 0.15373826 0.15892298 0.16012523 0.16814026\n",
            " 0.17715717 0.17485285 0.15932365 0.16041832 0.16090119 0.16088235\n",
            " 0.16053188 0.15998821 0.15934178 0.15864442 0.15792309 0.15719092\n",
            " 0.15645429 0.15571631 0.15497895 0.15424353 0.15351109 0.15278238\n",
            " 0.15205775 0.15133733 0.15062091 0.14990807]\n",
            "20 day output [[0.14919832]]\n",
            "21 day input [0.21828428 0.21763306 0.2210645  0.21613024 0.21314966 0.21517846\n",
            " 0.21735755 0.21956168 0.21635567 0.22289292 0.22444584 0.22232937\n",
            " 0.21475266 0.21122104 0.18822793 0.18036318 0.18274264 0.17871008\n",
            " 0.17815905 0.1777082  0.18189105 0.17685661 0.17465247 0.1682154\n",
            " 0.16944271 0.17282405 0.17630557 0.18604884 0.17417658 0.17976205\n",
            " 0.18371947 0.19356293 0.20240451 0.20295554 0.20693801 0.20753914\n",
            " 0.19053225 0.17713212 0.17868503 0.18164058 0.17397621 0.16874139\n",
            " 0.17257358 0.17074515 0.17815905 0.18091421 0.1719474  0.16804008\n",
            " 0.17019411 0.17342517 0.16310582 0.15927364 0.15992486 0.1612273\n",
            " 0.16758923 0.16420789 0.16736381 0.17049468 0.17695679 0.18071384\n",
            " 0.17921102 0.18274264 0.18502192 0.18036318 0.18003757 0.1761052\n",
            " 0.17282405 0.17187226 0.16541014 0.16571071 0.16681277 0.16095178\n",
            " 0.15040701 0.15373826 0.15892298 0.16012523 0.16814026 0.17715717\n",
            " 0.17485285 0.15932365 0.16041832 0.16090119 0.16088235 0.16053188\n",
            " 0.15998821 0.15934178 0.15864442 0.15792309 0.15719092 0.15645429\n",
            " 0.15571631 0.15497895 0.15424353 0.15351109 0.15278238 0.15205775\n",
            " 0.15133733 0.15062091 0.14990807 0.14919832]\n",
            "21 day output [[0.14849104]]\n",
            "22 day input [0.21763306 0.2210645  0.21613024 0.21314966 0.21517846 0.21735755\n",
            " 0.21956168 0.21635567 0.22289292 0.22444584 0.22232937 0.21475266\n",
            " 0.21122104 0.18822793 0.18036318 0.18274264 0.17871008 0.17815905\n",
            " 0.1777082  0.18189105 0.17685661 0.17465247 0.1682154  0.16944271\n",
            " 0.17282405 0.17630557 0.18604884 0.17417658 0.17976205 0.18371947\n",
            " 0.19356293 0.20240451 0.20295554 0.20693801 0.20753914 0.19053225\n",
            " 0.17713212 0.17868503 0.18164058 0.17397621 0.16874139 0.17257358\n",
            " 0.17074515 0.17815905 0.18091421 0.1719474  0.16804008 0.17019411\n",
            " 0.17342517 0.16310582 0.15927364 0.15992486 0.1612273  0.16758923\n",
            " 0.16420789 0.16736381 0.17049468 0.17695679 0.18071384 0.17921102\n",
            " 0.18274264 0.18502192 0.18036318 0.18003757 0.1761052  0.17282405\n",
            " 0.17187226 0.16541014 0.16571071 0.16681277 0.16095178 0.15040701\n",
            " 0.15373826 0.15892298 0.16012523 0.16814026 0.17715717 0.17485285\n",
            " 0.15932365 0.16041832 0.16090119 0.16088235 0.16053188 0.15998821\n",
            " 0.15934178 0.15864442 0.15792309 0.15719092 0.15645429 0.15571631\n",
            " 0.15497895 0.15424353 0.15351109 0.15278238 0.15205775 0.15133733\n",
            " 0.15062091 0.14990807 0.14919832 0.14849104]\n",
            "22 day output [[0.1477856]]\n",
            "23 day input [0.2210645  0.21613024 0.21314966 0.21517846 0.21735755 0.21956168\n",
            " 0.21635567 0.22289292 0.22444584 0.22232937 0.21475266 0.21122104\n",
            " 0.18822793 0.18036318 0.18274264 0.17871008 0.17815905 0.1777082\n",
            " 0.18189105 0.17685661 0.17465247 0.1682154  0.16944271 0.17282405\n",
            " 0.17630557 0.18604884 0.17417658 0.17976205 0.18371947 0.19356293\n",
            " 0.20240451 0.20295554 0.20693801 0.20753914 0.19053225 0.17713212\n",
            " 0.17868503 0.18164058 0.17397621 0.16874139 0.17257358 0.17074515\n",
            " 0.17815905 0.18091421 0.1719474  0.16804008 0.17019411 0.17342517\n",
            " 0.16310582 0.15927364 0.15992486 0.1612273  0.16758923 0.16420789\n",
            " 0.16736381 0.17049468 0.17695679 0.18071384 0.17921102 0.18274264\n",
            " 0.18502192 0.18036318 0.18003757 0.1761052  0.17282405 0.17187226\n",
            " 0.16541014 0.16571071 0.16681277 0.16095178 0.15040701 0.15373826\n",
            " 0.15892298 0.16012523 0.16814026 0.17715717 0.17485285 0.15932365\n",
            " 0.16041832 0.16090119 0.16088235 0.16053188 0.15998821 0.15934178\n",
            " 0.15864442 0.15792309 0.15719092 0.15645429 0.15571631 0.15497895\n",
            " 0.15424353 0.15351109 0.15278238 0.15205775 0.15133733 0.15062091\n",
            " 0.14990807 0.14919832 0.14849104 0.1477856 ]\n",
            "23 day output [[0.14708145]]\n",
            "24 day input [0.21613024 0.21314966 0.21517846 0.21735755 0.21956168 0.21635567\n",
            " 0.22289292 0.22444584 0.22232937 0.21475266 0.21122104 0.18822793\n",
            " 0.18036318 0.18274264 0.17871008 0.17815905 0.1777082  0.18189105\n",
            " 0.17685661 0.17465247 0.1682154  0.16944271 0.17282405 0.17630557\n",
            " 0.18604884 0.17417658 0.17976205 0.18371947 0.19356293 0.20240451\n",
            " 0.20295554 0.20693801 0.20753914 0.19053225 0.17713212 0.17868503\n",
            " 0.18164058 0.17397621 0.16874139 0.17257358 0.17074515 0.17815905\n",
            " 0.18091421 0.1719474  0.16804008 0.17019411 0.17342517 0.16310582\n",
            " 0.15927364 0.15992486 0.1612273  0.16758923 0.16420789 0.16736381\n",
            " 0.17049468 0.17695679 0.18071384 0.17921102 0.18274264 0.18502192\n",
            " 0.18036318 0.18003757 0.1761052  0.17282405 0.17187226 0.16541014\n",
            " 0.16571071 0.16681277 0.16095178 0.15040701 0.15373826 0.15892298\n",
            " 0.16012523 0.16814026 0.17715717 0.17485285 0.15932365 0.16041832\n",
            " 0.16090119 0.16088235 0.16053188 0.15998821 0.15934178 0.15864442\n",
            " 0.15792309 0.15719092 0.15645429 0.15571631 0.15497895 0.15424353\n",
            " 0.15351109 0.15278238 0.15205775 0.15133733 0.15062091 0.14990807\n",
            " 0.14919832 0.14849104 0.1477856  0.14708145]\n",
            "24 day output [[0.14637806]]\n",
            "25 day input [0.21314966 0.21517846 0.21735755 0.21956168 0.21635567 0.22289292\n",
            " 0.22444584 0.22232937 0.21475266 0.21122104 0.18822793 0.18036318\n",
            " 0.18274264 0.17871008 0.17815905 0.1777082  0.18189105 0.17685661\n",
            " 0.17465247 0.1682154  0.16944271 0.17282405 0.17630557 0.18604884\n",
            " 0.17417658 0.17976205 0.18371947 0.19356293 0.20240451 0.20295554\n",
            " 0.20693801 0.20753914 0.19053225 0.17713212 0.17868503 0.18164058\n",
            " 0.17397621 0.16874139 0.17257358 0.17074515 0.17815905 0.18091421\n",
            " 0.1719474  0.16804008 0.17019411 0.17342517 0.16310582 0.15927364\n",
            " 0.15992486 0.1612273  0.16758923 0.16420789 0.16736381 0.17049468\n",
            " 0.17695679 0.18071384 0.17921102 0.18274264 0.18502192 0.18036318\n",
            " 0.18003757 0.1761052  0.17282405 0.17187226 0.16541014 0.16571071\n",
            " 0.16681277 0.16095178 0.15040701 0.15373826 0.15892298 0.16012523\n",
            " 0.16814026 0.17715717 0.17485285 0.15932365 0.16041832 0.16090119\n",
            " 0.16088235 0.16053188 0.15998821 0.15934178 0.15864442 0.15792309\n",
            " 0.15719092 0.15645429 0.15571631 0.15497895 0.15424353 0.15351109\n",
            " 0.15278238 0.15205775 0.15133733 0.15062091 0.14990807 0.14919832\n",
            " 0.14849104 0.1477856  0.14708145 0.14637806]\n",
            "25 day output [[0.145675]]\n",
            "26 day input [0.21517846 0.21735755 0.21956168 0.21635567 0.22289292 0.22444584\n",
            " 0.22232937 0.21475266 0.21122104 0.18822793 0.18036318 0.18274264\n",
            " 0.17871008 0.17815905 0.1777082  0.18189105 0.17685661 0.17465247\n",
            " 0.1682154  0.16944271 0.17282405 0.17630557 0.18604884 0.17417658\n",
            " 0.17976205 0.18371947 0.19356293 0.20240451 0.20295554 0.20693801\n",
            " 0.20753914 0.19053225 0.17713212 0.17868503 0.18164058 0.17397621\n",
            " 0.16874139 0.17257358 0.17074515 0.17815905 0.18091421 0.1719474\n",
            " 0.16804008 0.17019411 0.17342517 0.16310582 0.15927364 0.15992486\n",
            " 0.1612273  0.16758923 0.16420789 0.16736381 0.17049468 0.17695679\n",
            " 0.18071384 0.17921102 0.18274264 0.18502192 0.18036318 0.18003757\n",
            " 0.1761052  0.17282405 0.17187226 0.16541014 0.16571071 0.16681277\n",
            " 0.16095178 0.15040701 0.15373826 0.15892298 0.16012523 0.16814026\n",
            " 0.17715717 0.17485285 0.15932365 0.16041832 0.16090119 0.16088235\n",
            " 0.16053188 0.15998821 0.15934178 0.15864442 0.15792309 0.15719092\n",
            " 0.15645429 0.15571631 0.15497895 0.15424353 0.15351109 0.15278238\n",
            " 0.15205775 0.15133733 0.15062091 0.14990807 0.14919832 0.14849104\n",
            " 0.1477856  0.14708145 0.14637806 0.145675  ]\n",
            "26 day output [[0.14497203]]\n",
            "27 day input [0.21735755 0.21956168 0.21635567 0.22289292 0.22444584 0.22232937\n",
            " 0.21475266 0.21122104 0.18822793 0.18036318 0.18274264 0.17871008\n",
            " 0.17815905 0.1777082  0.18189105 0.17685661 0.17465247 0.1682154\n",
            " 0.16944271 0.17282405 0.17630557 0.18604884 0.17417658 0.17976205\n",
            " 0.18371947 0.19356293 0.20240451 0.20295554 0.20693801 0.20753914\n",
            " 0.19053225 0.17713212 0.17868503 0.18164058 0.17397621 0.16874139\n",
            " 0.17257358 0.17074515 0.17815905 0.18091421 0.1719474  0.16804008\n",
            " 0.17019411 0.17342517 0.16310582 0.15927364 0.15992486 0.1612273\n",
            " 0.16758923 0.16420789 0.16736381 0.17049468 0.17695679 0.18071384\n",
            " 0.17921102 0.18274264 0.18502192 0.18036318 0.18003757 0.1761052\n",
            " 0.17282405 0.17187226 0.16541014 0.16571071 0.16681277 0.16095178\n",
            " 0.15040701 0.15373826 0.15892298 0.16012523 0.16814026 0.17715717\n",
            " 0.17485285 0.15932365 0.16041832 0.16090119 0.16088235 0.16053188\n",
            " 0.15998821 0.15934178 0.15864442 0.15792309 0.15719092 0.15645429\n",
            " 0.15571631 0.15497895 0.15424353 0.15351109 0.15278238 0.15205775\n",
            " 0.15133733 0.15062091 0.14990807 0.14919832 0.14849104 0.1477856\n",
            " 0.14708145 0.14637806 0.145675   0.14497203]\n",
            "27 day output [[0.14426887]]\n",
            "28 day input [0.21956168 0.21635567 0.22289292 0.22444584 0.22232937 0.21475266\n",
            " 0.21122104 0.18822793 0.18036318 0.18274264 0.17871008 0.17815905\n",
            " 0.1777082  0.18189105 0.17685661 0.17465247 0.1682154  0.16944271\n",
            " 0.17282405 0.17630557 0.18604884 0.17417658 0.17976205 0.18371947\n",
            " 0.19356293 0.20240451 0.20295554 0.20693801 0.20753914 0.19053225\n",
            " 0.17713212 0.17868503 0.18164058 0.17397621 0.16874139 0.17257358\n",
            " 0.17074515 0.17815905 0.18091421 0.1719474  0.16804008 0.17019411\n",
            " 0.17342517 0.16310582 0.15927364 0.15992486 0.1612273  0.16758923\n",
            " 0.16420789 0.16736381 0.17049468 0.17695679 0.18071384 0.17921102\n",
            " 0.18274264 0.18502192 0.18036318 0.18003757 0.1761052  0.17282405\n",
            " 0.17187226 0.16541014 0.16571071 0.16681277 0.16095178 0.15040701\n",
            " 0.15373826 0.15892298 0.16012523 0.16814026 0.17715717 0.17485285\n",
            " 0.15932365 0.16041832 0.16090119 0.16088235 0.16053188 0.15998821\n",
            " 0.15934178 0.15864442 0.15792309 0.15719092 0.15645429 0.15571631\n",
            " 0.15497895 0.15424353 0.15351109 0.15278238 0.15205775 0.15133733\n",
            " 0.15062091 0.14990807 0.14919832 0.14849104 0.1477856  0.14708145\n",
            " 0.14637806 0.145675   0.14497203 0.14426887]\n",
            "28 day output [[0.1435654]]\n",
            "29 day input [0.21635567 0.22289292 0.22444584 0.22232937 0.21475266 0.21122104\n",
            " 0.18822793 0.18036318 0.18274264 0.17871008 0.17815905 0.1777082\n",
            " 0.18189105 0.17685661 0.17465247 0.1682154  0.16944271 0.17282405\n",
            " 0.17630557 0.18604884 0.17417658 0.17976205 0.18371947 0.19356293\n",
            " 0.20240451 0.20295554 0.20693801 0.20753914 0.19053225 0.17713212\n",
            " 0.17868503 0.18164058 0.17397621 0.16874139 0.17257358 0.17074515\n",
            " 0.17815905 0.18091421 0.1719474  0.16804008 0.17019411 0.17342517\n",
            " 0.16310582 0.15927364 0.15992486 0.1612273  0.16758923 0.16420789\n",
            " 0.16736381 0.17049468 0.17695679 0.18071384 0.17921102 0.18274264\n",
            " 0.18502192 0.18036318 0.18003757 0.1761052  0.17282405 0.17187226\n",
            " 0.16541014 0.16571071 0.16681277 0.16095178 0.15040701 0.15373826\n",
            " 0.15892298 0.16012523 0.16814026 0.17715717 0.17485285 0.15932365\n",
            " 0.16041832 0.16090119 0.16088235 0.16053188 0.15998821 0.15934178\n",
            " 0.15864442 0.15792309 0.15719092 0.15645429 0.15571631 0.15497895\n",
            " 0.15424353 0.15351109 0.15278238 0.15205775 0.15133733 0.15062091\n",
            " 0.14990807 0.14919832 0.14849104 0.1477856  0.14708145 0.14637806\n",
            " 0.145675   0.14497203 0.14426887 0.1435654 ]\n",
            "29 day output [[0.14286156]]\n",
            "[[0.15932364761829376], [0.1604183167219162], [0.16090118885040283], [0.1608823537826538], [0.1605318784713745], [0.15998820960521698], [0.15934178233146667], [0.1586444228887558], [0.15792308747768402], [0.15719091892242432], [0.15645429491996765], [0.15571631491184235], [0.154978945851326], [0.15424352884292603], [0.15351109206676483], [0.1527823805809021], [0.15205775201320648], [0.15133732557296753], [0.15062090754508972], [0.14990806579589844], [0.14919832348823547], [0.1484910398721695], [0.14778560400009155], [0.14708144962787628], [0.1463780552148819], [0.14567500352859497], [0.144972026348114], [0.14426887035369873], [0.14356540143489838], [0.14286155998706818]]\n"
          ]
        }
      ]
    },
    {
      "cell_type": "code",
      "source": [
        "day_new=np.arange(1,101)\n",
        "day_pred=np.arange(101,131)"
      ],
      "metadata": {
        "id": "_siR7IqzzKgh"
      },
      "execution_count": null,
      "outputs": []
    },
    {
      "cell_type": "code",
      "source": [
        "import matplotlib.pyplot as plt\n",
        "len(df1)"
      ],
      "metadata": {
        "colab": {
          "base_uri": "https://localhost:8080/"
        },
        "id": "eSApDPynze3d",
        "outputId": "82497b35-a57e-418f-fade-316af617abd9"
      },
      "execution_count": null,
      "outputs": [
        {
          "output_type": "execute_result",
          "data": {
            "text/plain": [
              "1256"
            ]
          },
          "metadata": {},
          "execution_count": 57
        }
      ]
    },
    {
      "cell_type": "code",
      "source": [
        "plt.plot(day_new,scaler.inverse_transform(df1[1156:]))\n",
        "plt.plot(day_pred,scaler.inverse_transform(lst_output))"
      ],
      "metadata": {
        "colab": {
          "base_uri": "https://localhost:8080/",
          "height": 447
        },
        "id": "sA6co40Bze6d",
        "outputId": "21887303-dfa3-473b-e29b-e5db8943d216"
      },
      "execution_count": null,
      "outputs": [
        {
          "output_type": "execute_result",
          "data": {
            "text/plain": [
              "[<matplotlib.lines.Line2D at 0x797d52ad3f10>]"
            ]
          },
          "metadata": {},
          "execution_count": 58
        },
        {
          "output_type": "display_data",
          "data": {
            "text/plain": [
              "<Figure size 640x480 with 1 Axes>"
            ],
            "image/png": "[encoded data removed]"
          },
          "metadata": {}
        }
      ]
    },
    {
      "cell_type": "code",
      "source": [
        "df3=df1.tolist()\n",
        "df3.extend(lst_output)\n",
        "plt.plot(df3[1200:])"
      ],
      "metadata": {
        "colab": {
          "base_uri": "https://localhost:8080/",
          "height": 448
        },
        "id": "kGkHhY1-ze9W",
        "outputId": "98422c18-d36d-43a6-acf9-bc0017e4d5a9"
      },
      "execution_count": null,
      "outputs": [
        {
          "output_type": "execute_result",
          "data": {
            "text/plain": [
              "[<matplotlib.lines.Line2D at 0x797d52a48be0>]"
            ]
          },
          "metadata": {},
          "execution_count": 59
        },
        {
          "output_type": "display_data",
          "data": {
            "text/plain": [
              "<Figure size 640x480 with 1 Axes>"
            ],
            "image/png": "[encoded data removed]"
          },
          "metadata": {}
        }
      ]
    },
    {
      "cell_type": "code",
      "source": [
        "df3=scaler.inverse_transform(df3).tolist()\n",
        "plt.plot(df3)"
      ],
      "metadata": {
        "colab": {
          "base_uri": "https://localhost:8080/",
          "height": 447
        },
        "id": "Bu42ISs5zfAS",
        "outputId": "eb981419-19b5-4e85-b2b6-6ebf0b1ea38e"
      },
      "execution_count": null,
      "outputs": [
        {
          "output_type": "execute_result",
          "data": {
            "text/plain": [
              "[<matplotlib.lines.Line2D at 0x797d50dfe2c0>]"
            ]
          },
          "metadata": {},
          "execution_count": 60
        },
        {
          "output_type": "display_data",
          "data": {
            "text/plain": [
              "<Figure size 640x480 with 1 Axes>"
            ],
            "image/png": "[encoded data removed]"
          },
          "metadata": {}
        }
      ]
    },
    {
      "cell_type": "code",
      "source": [],
      "metadata": {
        "id": "kO5A63y4zvjZ"
      },
      "execution_count": null,
      "outputs": []
    },
    {
      "cell_type": "code",
      "source": [],
      "metadata": {
        "id": "yqL6DdMN0RPp"
      },
      "execution_count": null,
      "outputs": []
    }
  ]
}